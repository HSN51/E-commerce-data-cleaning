{
 "cells": [
  {
   "cell_type": "code",
   "execution_count": 1,
   "id": "03db8deb",
   "metadata": {
    "execution": {
     "iopub.execute_input": "2024-11-17T20:17:15.295234Z",
     "iopub.status.busy": "2024-11-17T20:17:15.293989Z",
     "iopub.status.idle": "2024-11-17T20:17:16.257289Z",
     "shell.execute_reply": "2024-11-17T20:17:16.255851Z"
    },
    "papermill": {
     "duration": 0.985265,
     "end_time": "2024-11-17T20:17:16.259951",
     "exception": false,
     "start_time": "2024-11-17T20:17:15.274686",
     "status": "completed"
    },
    "tags": []
   },
   "outputs": [
    {
     "name": "stdout",
     "output_type": "stream",
     "text": [
      "/kaggle/input/ecommerce-fashion-dataset/FashionDataset.csv\n"
     ]
    }
   ],
   "source": [
    "# This Python 3 environment comes with many helpful analytics libraries installed\n",
    "# It is defined by the kaggle/python Docker image: https://github.com/kaggle/docker-python\n",
    "# For example, here's several helpful packages to load\n",
    "\n",
    "import numpy as np # linear algebra\n",
    "import pandas as pd # data processing, CSV file I/O (e.g. pd.read_csv)\n",
    "\n",
    "# Input data files are available in the read-only \"../input/\" directory\n",
    "# For example, running this (by clicking run or pressing Shift+Enter) will list all files under the input directory\n",
    "\n",
    "import os\n",
    "for dirname, _, filenames in os.walk('/kaggle/input'):\n",
    "    for filename in filenames:\n",
    "        print(os.path.join(dirname, filename))\n",
    "\n",
    "# You can write up to 20GB to the current directory (/kaggle/working/) that gets preserved as output when you create a version using \"Save & Run All\" \n",
    "# You can also write temporary files to /kaggle/temp/, but they won't be saved outside of the current session"
   ]
  },
  {
   "cell_type": "code",
   "execution_count": 2,
   "id": "5a101156",
   "metadata": {
    "execution": {
     "iopub.execute_input": "2024-11-17T20:17:16.291904Z",
     "iopub.status.busy": "2024-11-17T20:17:16.291299Z",
     "iopub.status.idle": "2024-11-17T20:17:16.296817Z",
     "shell.execute_reply": "2024-11-17T20:17:16.295655Z"
    },
    "papermill": {
     "duration": 0.024774,
     "end_time": "2024-11-17T20:17:16.299209",
     "exception": false,
     "start_time": "2024-11-17T20:17:16.274435",
     "status": "completed"
    },
    "tags": []
   },
   "outputs": [],
   "source": [
    "import pandas as pd"
   ]
  },
  {
   "cell_type": "code",
   "execution_count": 3,
   "id": "651321b7",
   "metadata": {
    "execution": {
     "iopub.execute_input": "2024-11-17T20:17:16.330551Z",
     "iopub.status.busy": "2024-11-17T20:17:16.329648Z",
     "iopub.status.idle": "2024-11-17T20:17:16.487299Z",
     "shell.execute_reply": "2024-11-17T20:17:16.486243Z"
    },
    "papermill": {
     "duration": 0.176303,
     "end_time": "2024-11-17T20:17:16.490034",
     "exception": false,
     "start_time": "2024-11-17T20:17:16.313731",
     "status": "completed"
    },
    "tags": []
   },
   "outputs": [],
   "source": [
    "data = pd.read_csv(\"/kaggle/input/ecommerce-fashion-dataset/FashionDataset.csv\")"
   ]
  },
  {
   "cell_type": "code",
   "execution_count": 4,
   "id": "30d032b1",
   "metadata": {
    "execution": {
     "iopub.execute_input": "2024-11-17T20:17:16.520839Z",
     "iopub.status.busy": "2024-11-17T20:17:16.520422Z",
     "iopub.status.idle": "2024-11-17T20:17:16.545399Z",
     "shell.execute_reply": "2024-11-17T20:17:16.544142Z"
    },
    "papermill": {
     "duration": 0.043345,
     "end_time": "2024-11-17T20:17:16.547965",
     "exception": false,
     "start_time": "2024-11-17T20:17:16.504620",
     "status": "completed"
    },
    "tags": []
   },
   "outputs": [
    {
     "data": {
      "text/html": [
       "<div>\n",
       "<style scoped>\n",
       "    .dataframe tbody tr th:only-of-type {\n",
       "        vertical-align: middle;\n",
       "    }\n",
       "\n",
       "    .dataframe tbody tr th {\n",
       "        vertical-align: top;\n",
       "    }\n",
       "\n",
       "    .dataframe thead th {\n",
       "        text-align: right;\n",
       "    }\n",
       "</style>\n",
       "<table border=\"1\" class=\"dataframe\">\n",
       "  <thead>\n",
       "    <tr style=\"text-align: right;\">\n",
       "      <th></th>\n",
       "      <th>Unnamed: 0</th>\n",
       "      <th>BrandName</th>\n",
       "      <th>Deatils</th>\n",
       "      <th>Sizes</th>\n",
       "      <th>MRP</th>\n",
       "      <th>SellPrice</th>\n",
       "      <th>Discount</th>\n",
       "      <th>Category</th>\n",
       "    </tr>\n",
       "  </thead>\n",
       "  <tbody>\n",
       "    <tr>\n",
       "      <th>0</th>\n",
       "      <td>0</td>\n",
       "      <td>life</td>\n",
       "      <td>solid cotton blend collar neck womens a-line d...</td>\n",
       "      <td>Size:Large,Medium,Small,X-Large,X-Small</td>\n",
       "      <td>Rs\\n1699</td>\n",
       "      <td>849</td>\n",
       "      <td>50% off</td>\n",
       "      <td>Westernwear-Women</td>\n",
       "    </tr>\n",
       "    <tr>\n",
       "      <th>1</th>\n",
       "      <td>1</td>\n",
       "      <td>only</td>\n",
       "      <td>polyester peter pan collar womens blouson dres...</td>\n",
       "      <td>Size:34,36,38,40</td>\n",
       "      <td>Rs\\n3499</td>\n",
       "      <td>2449</td>\n",
       "      <td>30% off</td>\n",
       "      <td>Westernwear-Women</td>\n",
       "    </tr>\n",
       "    <tr>\n",
       "      <th>2</th>\n",
       "      <td>2</td>\n",
       "      <td>fratini</td>\n",
       "      <td>solid polyester blend wide neck womens regular...</td>\n",
       "      <td>Size:Large,X-Large,XX-Large</td>\n",
       "      <td>Rs\\n1199</td>\n",
       "      <td>599</td>\n",
       "      <td>50% off</td>\n",
       "      <td>Westernwear-Women</td>\n",
       "    </tr>\n",
       "    <tr>\n",
       "      <th>3</th>\n",
       "      <td>3</td>\n",
       "      <td>zink london</td>\n",
       "      <td>stripes polyester sweetheart neck womens dress...</td>\n",
       "      <td>Size:Large,Medium,Small,X-Large</td>\n",
       "      <td>Rs\\n2299</td>\n",
       "      <td>1379</td>\n",
       "      <td>40% off</td>\n",
       "      <td>Westernwear-Women</td>\n",
       "    </tr>\n",
       "    <tr>\n",
       "      <th>4</th>\n",
       "      <td>4</td>\n",
       "      <td>life</td>\n",
       "      <td>regular fit regular length denim womens jeans ...</td>\n",
       "      <td>Size:26,28,30,32,34,36</td>\n",
       "      <td>Rs\\n1699</td>\n",
       "      <td>849</td>\n",
       "      <td>50% off</td>\n",
       "      <td>Westernwear-Women</td>\n",
       "    </tr>\n",
       "  </tbody>\n",
       "</table>\n",
       "</div>"
      ],
      "text/plain": [
       "   Unnamed: 0    BrandName                                            Deatils  \\\n",
       "0           0         life  solid cotton blend collar neck womens a-line d...   \n",
       "1           1         only  polyester peter pan collar womens blouson dres...   \n",
       "2           2      fratini  solid polyester blend wide neck womens regular...   \n",
       "3           3  zink london  stripes polyester sweetheart neck womens dress...   \n",
       "4           4         life  regular fit regular length denim womens jeans ...   \n",
       "\n",
       "                                     Sizes       MRP SellPrice Discount  \\\n",
       "0  Size:Large,Medium,Small,X-Large,X-Small  Rs\\n1699       849  50% off   \n",
       "1                         Size:34,36,38,40  Rs\\n3499      2449  30% off   \n",
       "2              Size:Large,X-Large,XX-Large  Rs\\n1199       599  50% off   \n",
       "3          Size:Large,Medium,Small,X-Large  Rs\\n2299      1379  40% off   \n",
       "4                   Size:26,28,30,32,34,36  Rs\\n1699       849  50% off   \n",
       "\n",
       "            Category  \n",
       "0  Westernwear-Women  \n",
       "1  Westernwear-Women  \n",
       "2  Westernwear-Women  \n",
       "3  Westernwear-Women  \n",
       "4  Westernwear-Women  "
      ]
     },
     "execution_count": 4,
     "metadata": {},
     "output_type": "execute_result"
    }
   ],
   "source": [
    "data.head()"
   ]
  },
  {
   "cell_type": "code",
   "execution_count": 5,
   "id": "52233224",
   "metadata": {
    "execution": {
     "iopub.execute_input": "2024-11-17T20:17:16.579624Z",
     "iopub.status.busy": "2024-11-17T20:17:16.579190Z",
     "iopub.status.idle": "2024-11-17T20:17:16.587024Z",
     "shell.execute_reply": "2024-11-17T20:17:16.585865Z"
    },
    "papermill": {
     "duration": 0.02662,
     "end_time": "2024-11-17T20:17:16.589440",
     "exception": false,
     "start_time": "2024-11-17T20:17:16.562820",
     "status": "completed"
    },
    "tags": []
   },
   "outputs": [
    {
     "data": {
      "text/plain": [
       "'\"Deleting redundant columns.\\nRenaming the columns.\\nDropping duplicates.\\nRemove the NaN values from the dataset\\nCheck for some more Transformations'"
      ]
     },
     "execution_count": 5,
     "metadata": {},
     "output_type": "execute_result"
    }
   ],
   "source": [
    "\"\"\"\"Deleting redundant columns.\n",
    "Renaming the columns.\n",
    "Dropping duplicates.\n",
    "Remove the NaN values from the dataset\n",
    "Check for some more Transformations\"\"\""
   ]
  },
  {
   "cell_type": "code",
   "execution_count": 6,
   "id": "c584a046",
   "metadata": {
    "execution": {
     "iopub.execute_input": "2024-11-17T20:17:16.621636Z",
     "iopub.status.busy": "2024-11-17T20:17:16.621101Z",
     "iopub.status.idle": "2024-11-17T20:17:16.674372Z",
     "shell.execute_reply": "2024-11-17T20:17:16.673141Z"
    },
    "papermill": {
     "duration": 0.072705,
     "end_time": "2024-11-17T20:17:16.677082",
     "exception": false,
     "start_time": "2024-11-17T20:17:16.604377",
     "status": "completed"
    },
    "tags": []
   },
   "outputs": [
    {
     "name": "stdout",
     "output_type": "stream",
     "text": [
      "<class 'pandas.core.frame.DataFrame'>\n",
      "RangeIndex: 30758 entries, 0 to 30757\n",
      "Data columns (total 8 columns):\n",
      " #   Column      Non-Null Count  Dtype \n",
      "---  ------      --------------  ----- \n",
      " 0   Unnamed: 0  30758 non-null  int64 \n",
      " 1   BrandName   30758 non-null  object\n",
      " 2   Deatils     30758 non-null  object\n",
      " 3   Sizes       30758 non-null  object\n",
      " 4   MRP         30758 non-null  object\n",
      " 5   SellPrice   30758 non-null  object\n",
      " 6   Discount    30758 non-null  object\n",
      " 7   Category    30758 non-null  object\n",
      "dtypes: int64(1), object(7)\n",
      "memory usage: 1.9+ MB\n"
     ]
    }
   ],
   "source": [
    "data.info()"
   ]
  },
  {
   "cell_type": "code",
   "execution_count": 7,
   "id": "5dbf4874",
   "metadata": {
    "execution": {
     "iopub.execute_input": "2024-11-17T20:17:16.709902Z",
     "iopub.status.busy": "2024-11-17T20:17:16.709434Z",
     "iopub.status.idle": "2024-11-17T20:17:16.716871Z",
     "shell.execute_reply": "2024-11-17T20:17:16.715725Z"
    },
    "papermill": {
     "duration": 0.02673,
     "end_time": "2024-11-17T20:17:16.719376",
     "exception": false,
     "start_time": "2024-11-17T20:17:16.692646",
     "status": "completed"
    },
    "tags": []
   },
   "outputs": [
    {
     "data": {
      "text/plain": [
       "(30758, 8)"
      ]
     },
     "execution_count": 7,
     "metadata": {},
     "output_type": "execute_result"
    }
   ],
   "source": [
    "data.shape"
   ]
  },
  {
   "cell_type": "code",
   "execution_count": 8,
   "id": "5d0f5983",
   "metadata": {
    "execution": {
     "iopub.execute_input": "2024-11-17T20:17:16.752130Z",
     "iopub.status.busy": "2024-11-17T20:17:16.751668Z",
     "iopub.status.idle": "2024-11-17T20:17:16.759501Z",
     "shell.execute_reply": "2024-11-17T20:17:16.758340Z"
    },
    "papermill": {
     "duration": 0.027407,
     "end_time": "2024-11-17T20:17:16.762112",
     "exception": false,
     "start_time": "2024-11-17T20:17:16.734705",
     "status": "completed"
    },
    "tags": []
   },
   "outputs": [
    {
     "data": {
      "text/plain": [
       "Index(['Unnamed: 0', 'BrandName', 'Deatils', 'Sizes', 'MRP', 'SellPrice',\n",
       "       'Discount', 'Category'],\n",
       "      dtype='object')"
      ]
     },
     "execution_count": 8,
     "metadata": {},
     "output_type": "execute_result"
    }
   ],
   "source": [
    "data.columns"
   ]
  },
  {
   "cell_type": "code",
   "execution_count": 9,
   "id": "65cf3aab",
   "metadata": {
    "execution": {
     "iopub.execute_input": "2024-11-17T20:17:16.795712Z",
     "iopub.status.busy": "2024-11-17T20:17:16.795131Z",
     "iopub.status.idle": "2024-11-17T20:17:16.802774Z",
     "shell.execute_reply": "2024-11-17T20:17:16.801366Z"
    },
    "papermill": {
     "duration": 0.02724,
     "end_time": "2024-11-17T20:17:16.805481",
     "exception": false,
     "start_time": "2024-11-17T20:17:16.778241",
     "status": "completed"
    },
    "tags": []
   },
   "outputs": [
    {
     "data": {
      "text/plain": [
       "'\"Deleting redundant columns.\\nRenaming the columns.\\nDropping duplicates.\\nRemove the NaN values from the dataset\\nCheck for some more Transformations'"
      ]
     },
     "execution_count": 9,
     "metadata": {},
     "output_type": "execute_result"
    }
   ],
   "source": [
    "\"\"\"\"Deleting redundant columns.\n",
    "Renaming the columns.\n",
    "Dropping duplicates.\n",
    "Remove the NaN values from the dataset\n",
    "Check for some more Transformations\"\"\""
   ]
  },
  {
   "cell_type": "code",
   "execution_count": 10,
   "id": "8ed30e5e",
   "metadata": {
    "execution": {
     "iopub.execute_input": "2024-11-17T20:17:16.838981Z",
     "iopub.status.busy": "2024-11-17T20:17:16.838214Z",
     "iopub.status.idle": "2024-11-17T20:17:16.849030Z",
     "shell.execute_reply": "2024-11-17T20:17:16.847714Z"
    },
    "papermill": {
     "duration": 0.030494,
     "end_time": "2024-11-17T20:17:16.851567",
     "exception": false,
     "start_time": "2024-11-17T20:17:16.821073",
     "status": "completed"
    },
    "tags": []
   },
   "outputs": [],
   "source": [
    "# Unneceserray column name and inplace=True is save on the dataset changed\n",
    "data.drop(columns =\"Unnamed: 0\",inplace=True)"
   ]
  },
  {
   "cell_type": "code",
   "execution_count": 11,
   "id": "de1c897a",
   "metadata": {
    "execution": {
     "iopub.execute_input": "2024-11-17T20:17:16.885204Z",
     "iopub.status.busy": "2024-11-17T20:17:16.884771Z",
     "iopub.status.idle": "2024-11-17T20:17:16.904546Z",
     "shell.execute_reply": "2024-11-17T20:17:16.903337Z"
    },
    "papermill": {
     "duration": 0.040232,
     "end_time": "2024-11-17T20:17:16.907369",
     "exception": false,
     "start_time": "2024-11-17T20:17:16.867137",
     "status": "completed"
    },
    "tags": []
   },
   "outputs": [
    {
     "data": {
      "text/html": [
       "<div>\n",
       "<style scoped>\n",
       "    .dataframe tbody tr th:only-of-type {\n",
       "        vertical-align: middle;\n",
       "    }\n",
       "\n",
       "    .dataframe tbody tr th {\n",
       "        vertical-align: top;\n",
       "    }\n",
       "\n",
       "    .dataframe thead th {\n",
       "        text-align: right;\n",
       "    }\n",
       "</style>\n",
       "<table border=\"1\" class=\"dataframe\">\n",
       "  <thead>\n",
       "    <tr style=\"text-align: right;\">\n",
       "      <th></th>\n",
       "      <th>BrandName</th>\n",
       "      <th>Deatils</th>\n",
       "      <th>Sizes</th>\n",
       "      <th>MRP</th>\n",
       "      <th>SellPrice</th>\n",
       "      <th>Discount</th>\n",
       "      <th>Category</th>\n",
       "    </tr>\n",
       "  </thead>\n",
       "  <tbody>\n",
       "    <tr>\n",
       "      <th>0</th>\n",
       "      <td>life</td>\n",
       "      <td>solid cotton blend collar neck womens a-line d...</td>\n",
       "      <td>Size:Large,Medium,Small,X-Large,X-Small</td>\n",
       "      <td>Rs\\n1699</td>\n",
       "      <td>849</td>\n",
       "      <td>50% off</td>\n",
       "      <td>Westernwear-Women</td>\n",
       "    </tr>\n",
       "    <tr>\n",
       "      <th>1</th>\n",
       "      <td>only</td>\n",
       "      <td>polyester peter pan collar womens blouson dres...</td>\n",
       "      <td>Size:34,36,38,40</td>\n",
       "      <td>Rs\\n3499</td>\n",
       "      <td>2449</td>\n",
       "      <td>30% off</td>\n",
       "      <td>Westernwear-Women</td>\n",
       "    </tr>\n",
       "    <tr>\n",
       "      <th>2</th>\n",
       "      <td>fratini</td>\n",
       "      <td>solid polyester blend wide neck womens regular...</td>\n",
       "      <td>Size:Large,X-Large,XX-Large</td>\n",
       "      <td>Rs\\n1199</td>\n",
       "      <td>599</td>\n",
       "      <td>50% off</td>\n",
       "      <td>Westernwear-Women</td>\n",
       "    </tr>\n",
       "    <tr>\n",
       "      <th>3</th>\n",
       "      <td>zink london</td>\n",
       "      <td>stripes polyester sweetheart neck womens dress...</td>\n",
       "      <td>Size:Large,Medium,Small,X-Large</td>\n",
       "      <td>Rs\\n2299</td>\n",
       "      <td>1379</td>\n",
       "      <td>40% off</td>\n",
       "      <td>Westernwear-Women</td>\n",
       "    </tr>\n",
       "    <tr>\n",
       "      <th>4</th>\n",
       "      <td>life</td>\n",
       "      <td>regular fit regular length denim womens jeans ...</td>\n",
       "      <td>Size:26,28,30,32,34,36</td>\n",
       "      <td>Rs\\n1699</td>\n",
       "      <td>849</td>\n",
       "      <td>50% off</td>\n",
       "      <td>Westernwear-Women</td>\n",
       "    </tr>\n",
       "    <tr>\n",
       "      <th>...</th>\n",
       "      <td>...</td>\n",
       "      <td>...</td>\n",
       "      <td>...</td>\n",
       "      <td>...</td>\n",
       "      <td>...</td>\n",
       "      <td>...</td>\n",
       "      <td>...</td>\n",
       "    </tr>\n",
       "    <tr>\n",
       "      <th>30753</th>\n",
       "      <td>swarovski</td>\n",
       "      <td>crystal stylish womens rodhium earrings</td>\n",
       "      <td>Nan</td>\n",
       "      <td>Nan</td>\n",
       "      <td>8950</td>\n",
       "      <td>Nan</td>\n",
       "      <td>Jewellery-Women</td>\n",
       "    </tr>\n",
       "    <tr>\n",
       "      <th>30754</th>\n",
       "      <td>Nan</td>\n",
       "      <td>Nan</td>\n",
       "      <td>Nan</td>\n",
       "      <td>Nan</td>\n",
       "      <td>Nan</td>\n",
       "      <td>Nan</td>\n",
       "      <td>Jewellery-Women</td>\n",
       "    </tr>\n",
       "    <tr>\n",
       "      <th>30755</th>\n",
       "      <td>jewelz</td>\n",
       "      <td>ethnic gold plated jhumki earrings</td>\n",
       "      <td>Nan</td>\n",
       "      <td>Rs\\n1839</td>\n",
       "      <td>643</td>\n",
       "      <td>65% off</td>\n",
       "      <td>Jewellery-Women</td>\n",
       "    </tr>\n",
       "    <tr>\n",
       "      <th>30756</th>\n",
       "      <td>estelle</td>\n",
       "      <td>womens gold plated double line fancy white and...</td>\n",
       "      <td>Nan</td>\n",
       "      <td>Nan</td>\n",
       "      <td>2799</td>\n",
       "      <td>Nan</td>\n",
       "      <td>Jewellery-Women</td>\n",
       "    </tr>\n",
       "    <tr>\n",
       "      <th>30757</th>\n",
       "      <td>estelle</td>\n",
       "      <td>womens gold plated bridge designer mangalsutra...</td>\n",
       "      <td>Nan</td>\n",
       "      <td>Nan</td>\n",
       "      <td>1899</td>\n",
       "      <td>Nan</td>\n",
       "      <td>Jewellery-Women</td>\n",
       "    </tr>\n",
       "  </tbody>\n",
       "</table>\n",
       "<p>30758 rows × 7 columns</p>\n",
       "</div>"
      ],
      "text/plain": [
       "         BrandName                                            Deatils  \\\n",
       "0             life  solid cotton blend collar neck womens a-line d...   \n",
       "1             only  polyester peter pan collar womens blouson dres...   \n",
       "2          fratini  solid polyester blend wide neck womens regular...   \n",
       "3      zink london  stripes polyester sweetheart neck womens dress...   \n",
       "4             life  regular fit regular length denim womens jeans ...   \n",
       "...            ...                                                ...   \n",
       "30753    swarovski            crystal stylish womens rodhium earrings   \n",
       "30754          Nan                                                Nan   \n",
       "30755       jewelz                 ethnic gold plated jhumki earrings   \n",
       "30756      estelle  womens gold plated double line fancy white and...   \n",
       "30757      estelle  womens gold plated bridge designer mangalsutra...   \n",
       "\n",
       "                                         Sizes       MRP SellPrice Discount  \\\n",
       "0      Size:Large,Medium,Small,X-Large,X-Small  Rs\\n1699       849  50% off   \n",
       "1                             Size:34,36,38,40  Rs\\n3499      2449  30% off   \n",
       "2                  Size:Large,X-Large,XX-Large  Rs\\n1199       599  50% off   \n",
       "3              Size:Large,Medium,Small,X-Large  Rs\\n2299      1379  40% off   \n",
       "4                       Size:26,28,30,32,34,36  Rs\\n1699       849  50% off   \n",
       "...                                        ...       ...       ...      ...   \n",
       "30753                                      Nan       Nan      8950      Nan   \n",
       "30754                                      Nan       Nan       Nan      Nan   \n",
       "30755                                      Nan  Rs\\n1839       643  65% off   \n",
       "30756                                      Nan       Nan      2799      Nan   \n",
       "30757                                      Nan       Nan      1899      Nan   \n",
       "\n",
       "                Category  \n",
       "0      Westernwear-Women  \n",
       "1      Westernwear-Women  \n",
       "2      Westernwear-Women  \n",
       "3      Westernwear-Women  \n",
       "4      Westernwear-Women  \n",
       "...                  ...  \n",
       "30753    Jewellery-Women  \n",
       "30754    Jewellery-Women  \n",
       "30755    Jewellery-Women  \n",
       "30756    Jewellery-Women  \n",
       "30757    Jewellery-Women  \n",
       "\n",
       "[30758 rows x 7 columns]"
      ]
     },
     "execution_count": 11,
     "metadata": {},
     "output_type": "execute_result"
    }
   ],
   "source": [
    "data"
   ]
  },
  {
   "cell_type": "code",
   "execution_count": 12,
   "id": "17fdaeae",
   "metadata": {
    "execution": {
     "iopub.execute_input": "2024-11-17T20:17:16.941697Z",
     "iopub.status.busy": "2024-11-17T20:17:16.941240Z",
     "iopub.status.idle": "2024-11-17T20:17:16.948412Z",
     "shell.execute_reply": "2024-11-17T20:17:16.947268Z"
    },
    "papermill": {
     "duration": 0.027001,
     "end_time": "2024-11-17T20:17:16.950717",
     "exception": false,
     "start_time": "2024-11-17T20:17:16.923716",
     "status": "completed"
    },
    "tags": []
   },
   "outputs": [
    {
     "data": {
      "text/plain": [
       "'\"Deleting redundant columns.\\nRenaming the columns.\\nDropping duplicates.\\nRemove the NaN values from the dataset\\nCheck for some more Transformations'"
      ]
     },
     "execution_count": 12,
     "metadata": {},
     "output_type": "execute_result"
    }
   ],
   "source": [
    "\"\"\"\"Deleting redundant columns.\n",
    "Renaming the columns.\n",
    "Dropping duplicates.\n",
    "Remove the NaN values from the dataset\n",
    "Check for some more Transformations\"\"\""
   ]
  },
  {
   "cell_type": "code",
   "execution_count": 13,
   "id": "57ff164d",
   "metadata": {
    "execution": {
     "iopub.execute_input": "2024-11-17T20:17:16.984822Z",
     "iopub.status.busy": "2024-11-17T20:17:16.984356Z",
     "iopub.status.idle": "2024-11-17T20:17:16.992080Z",
     "shell.execute_reply": "2024-11-17T20:17:16.990971Z"
    },
    "papermill": {
     "duration": 0.02789,
     "end_time": "2024-11-17T20:17:16.994648",
     "exception": false,
     "start_time": "2024-11-17T20:17:16.966758",
     "status": "completed"
    },
    "tags": []
   },
   "outputs": [
    {
     "data": {
      "text/plain": [
       "Index(['BrandName', 'Deatils', 'Sizes', 'MRP', 'SellPrice', 'Discount',\n",
       "       'Category'],\n",
       "      dtype='object')"
      ]
     },
     "execution_count": 13,
     "metadata": {},
     "output_type": "execute_result"
    }
   ],
   "source": [
    "data.columns"
   ]
  },
  {
   "cell_type": "code",
   "execution_count": 14,
   "id": "9b047921",
   "metadata": {
    "execution": {
     "iopub.execute_input": "2024-11-17T20:17:17.029818Z",
     "iopub.status.busy": "2024-11-17T20:17:17.029307Z",
     "iopub.status.idle": "2024-11-17T20:17:17.035802Z",
     "shell.execute_reply": "2024-11-17T20:17:17.034647Z"
    },
    "papermill": {
     "duration": 0.026648,
     "end_time": "2024-11-17T20:17:17.038416",
     "exception": false,
     "start_time": "2024-11-17T20:17:17.011768",
     "status": "completed"
    },
    "tags": []
   },
   "outputs": [],
   "source": [
    "data.rename(columns = {\"Deatils\" : \"Details\"}, inplace = True)"
   ]
  },
  {
   "cell_type": "code",
   "execution_count": 15,
   "id": "27f44192",
   "metadata": {
    "execution": {
     "iopub.execute_input": "2024-11-17T20:17:17.073979Z",
     "iopub.status.busy": "2024-11-17T20:17:17.072910Z",
     "iopub.status.idle": "2024-11-17T20:17:17.090155Z",
     "shell.execute_reply": "2024-11-17T20:17:17.088885Z"
    },
    "papermill": {
     "duration": 0.037806,
     "end_time": "2024-11-17T20:17:17.092556",
     "exception": false,
     "start_time": "2024-11-17T20:17:17.054750",
     "status": "completed"
    },
    "tags": []
   },
   "outputs": [
    {
     "data": {
      "text/html": [
       "<div>\n",
       "<style scoped>\n",
       "    .dataframe tbody tr th:only-of-type {\n",
       "        vertical-align: middle;\n",
       "    }\n",
       "\n",
       "    .dataframe tbody tr th {\n",
       "        vertical-align: top;\n",
       "    }\n",
       "\n",
       "    .dataframe thead th {\n",
       "        text-align: right;\n",
       "    }\n",
       "</style>\n",
       "<table border=\"1\" class=\"dataframe\">\n",
       "  <thead>\n",
       "    <tr style=\"text-align: right;\">\n",
       "      <th></th>\n",
       "      <th>BrandName</th>\n",
       "      <th>Details</th>\n",
       "      <th>Sizes</th>\n",
       "      <th>MRP</th>\n",
       "      <th>SellPrice</th>\n",
       "      <th>Discount</th>\n",
       "      <th>Category</th>\n",
       "    </tr>\n",
       "  </thead>\n",
       "  <tbody>\n",
       "    <tr>\n",
       "      <th>0</th>\n",
       "      <td>life</td>\n",
       "      <td>solid cotton blend collar neck womens a-line d...</td>\n",
       "      <td>Size:Large,Medium,Small,X-Large,X-Small</td>\n",
       "      <td>Rs\\n1699</td>\n",
       "      <td>849</td>\n",
       "      <td>50% off</td>\n",
       "      <td>Westernwear-Women</td>\n",
       "    </tr>\n",
       "    <tr>\n",
       "      <th>1</th>\n",
       "      <td>only</td>\n",
       "      <td>polyester peter pan collar womens blouson dres...</td>\n",
       "      <td>Size:34,36,38,40</td>\n",
       "      <td>Rs\\n3499</td>\n",
       "      <td>2449</td>\n",
       "      <td>30% off</td>\n",
       "      <td>Westernwear-Women</td>\n",
       "    </tr>\n",
       "    <tr>\n",
       "      <th>2</th>\n",
       "      <td>fratini</td>\n",
       "      <td>solid polyester blend wide neck womens regular...</td>\n",
       "      <td>Size:Large,X-Large,XX-Large</td>\n",
       "      <td>Rs\\n1199</td>\n",
       "      <td>599</td>\n",
       "      <td>50% off</td>\n",
       "      <td>Westernwear-Women</td>\n",
       "    </tr>\n",
       "    <tr>\n",
       "      <th>3</th>\n",
       "      <td>zink london</td>\n",
       "      <td>stripes polyester sweetheart neck womens dress...</td>\n",
       "      <td>Size:Large,Medium,Small,X-Large</td>\n",
       "      <td>Rs\\n2299</td>\n",
       "      <td>1379</td>\n",
       "      <td>40% off</td>\n",
       "      <td>Westernwear-Women</td>\n",
       "    </tr>\n",
       "    <tr>\n",
       "      <th>4</th>\n",
       "      <td>life</td>\n",
       "      <td>regular fit regular length denim womens jeans ...</td>\n",
       "      <td>Size:26,28,30,32,34,36</td>\n",
       "      <td>Rs\\n1699</td>\n",
       "      <td>849</td>\n",
       "      <td>50% off</td>\n",
       "      <td>Westernwear-Women</td>\n",
       "    </tr>\n",
       "    <tr>\n",
       "      <th>...</th>\n",
       "      <td>...</td>\n",
       "      <td>...</td>\n",
       "      <td>...</td>\n",
       "      <td>...</td>\n",
       "      <td>...</td>\n",
       "      <td>...</td>\n",
       "      <td>...</td>\n",
       "    </tr>\n",
       "    <tr>\n",
       "      <th>30753</th>\n",
       "      <td>swarovski</td>\n",
       "      <td>crystal stylish womens rodhium earrings</td>\n",
       "      <td>Nan</td>\n",
       "      <td>Nan</td>\n",
       "      <td>8950</td>\n",
       "      <td>Nan</td>\n",
       "      <td>Jewellery-Women</td>\n",
       "    </tr>\n",
       "    <tr>\n",
       "      <th>30754</th>\n",
       "      <td>Nan</td>\n",
       "      <td>Nan</td>\n",
       "      <td>Nan</td>\n",
       "      <td>Nan</td>\n",
       "      <td>Nan</td>\n",
       "      <td>Nan</td>\n",
       "      <td>Jewellery-Women</td>\n",
       "    </tr>\n",
       "    <tr>\n",
       "      <th>30755</th>\n",
       "      <td>jewelz</td>\n",
       "      <td>ethnic gold plated jhumki earrings</td>\n",
       "      <td>Nan</td>\n",
       "      <td>Rs\\n1839</td>\n",
       "      <td>643</td>\n",
       "      <td>65% off</td>\n",
       "      <td>Jewellery-Women</td>\n",
       "    </tr>\n",
       "    <tr>\n",
       "      <th>30756</th>\n",
       "      <td>estelle</td>\n",
       "      <td>womens gold plated double line fancy white and...</td>\n",
       "      <td>Nan</td>\n",
       "      <td>Nan</td>\n",
       "      <td>2799</td>\n",
       "      <td>Nan</td>\n",
       "      <td>Jewellery-Women</td>\n",
       "    </tr>\n",
       "    <tr>\n",
       "      <th>30757</th>\n",
       "      <td>estelle</td>\n",
       "      <td>womens gold plated bridge designer mangalsutra...</td>\n",
       "      <td>Nan</td>\n",
       "      <td>Nan</td>\n",
       "      <td>1899</td>\n",
       "      <td>Nan</td>\n",
       "      <td>Jewellery-Women</td>\n",
       "    </tr>\n",
       "  </tbody>\n",
       "</table>\n",
       "<p>30758 rows × 7 columns</p>\n",
       "</div>"
      ],
      "text/plain": [
       "         BrandName                                            Details  \\\n",
       "0             life  solid cotton blend collar neck womens a-line d...   \n",
       "1             only  polyester peter pan collar womens blouson dres...   \n",
       "2          fratini  solid polyester blend wide neck womens regular...   \n",
       "3      zink london  stripes polyester sweetheart neck womens dress...   \n",
       "4             life  regular fit regular length denim womens jeans ...   \n",
       "...            ...                                                ...   \n",
       "30753    swarovski            crystal stylish womens rodhium earrings   \n",
       "30754          Nan                                                Nan   \n",
       "30755       jewelz                 ethnic gold plated jhumki earrings   \n",
       "30756      estelle  womens gold plated double line fancy white and...   \n",
       "30757      estelle  womens gold plated bridge designer mangalsutra...   \n",
       "\n",
       "                                         Sizes       MRP SellPrice Discount  \\\n",
       "0      Size:Large,Medium,Small,X-Large,X-Small  Rs\\n1699       849  50% off   \n",
       "1                             Size:34,36,38,40  Rs\\n3499      2449  30% off   \n",
       "2                  Size:Large,X-Large,XX-Large  Rs\\n1199       599  50% off   \n",
       "3              Size:Large,Medium,Small,X-Large  Rs\\n2299      1379  40% off   \n",
       "4                       Size:26,28,30,32,34,36  Rs\\n1699       849  50% off   \n",
       "...                                        ...       ...       ...      ...   \n",
       "30753                                      Nan       Nan      8950      Nan   \n",
       "30754                                      Nan       Nan       Nan      Nan   \n",
       "30755                                      Nan  Rs\\n1839       643  65% off   \n",
       "30756                                      Nan       Nan      2799      Nan   \n",
       "30757                                      Nan       Nan      1899      Nan   \n",
       "\n",
       "                Category  \n",
       "0      Westernwear-Women  \n",
       "1      Westernwear-Women  \n",
       "2      Westernwear-Women  \n",
       "3      Westernwear-Women  \n",
       "4      Westernwear-Women  \n",
       "...                  ...  \n",
       "30753    Jewellery-Women  \n",
       "30754    Jewellery-Women  \n",
       "30755    Jewellery-Women  \n",
       "30756    Jewellery-Women  \n",
       "30757    Jewellery-Women  \n",
       "\n",
       "[30758 rows x 7 columns]"
      ]
     },
     "execution_count": 15,
     "metadata": {},
     "output_type": "execute_result"
    }
   ],
   "source": [
    "data"
   ]
  },
  {
   "cell_type": "code",
   "execution_count": 16,
   "id": "525c6938",
   "metadata": {
    "execution": {
     "iopub.execute_input": "2024-11-17T20:17:17.128267Z",
     "iopub.status.busy": "2024-11-17T20:17:17.127156Z",
     "iopub.status.idle": "2024-11-17T20:17:17.135626Z",
     "shell.execute_reply": "2024-11-17T20:17:17.134387Z"
    },
    "papermill": {
     "duration": 0.029061,
     "end_time": "2024-11-17T20:17:17.138201",
     "exception": false,
     "start_time": "2024-11-17T20:17:17.109140",
     "status": "completed"
    },
    "tags": []
   },
   "outputs": [
    {
     "data": {
      "text/plain": [
       "Index(['BrandName', 'Details', 'Sizes', 'MRP', 'SellPrice', 'Discount',\n",
       "       'Category'],\n",
       "      dtype='object')"
      ]
     },
     "execution_count": 16,
     "metadata": {},
     "output_type": "execute_result"
    }
   ],
   "source": [
    "data.columns"
   ]
  },
  {
   "cell_type": "code",
   "execution_count": 17,
   "id": "e7d79699",
   "metadata": {
    "execution": {
     "iopub.execute_input": "2024-11-17T20:17:17.173700Z",
     "iopub.status.busy": "2024-11-17T20:17:17.173244Z",
     "iopub.status.idle": "2024-11-17T20:17:17.180326Z",
     "shell.execute_reply": "2024-11-17T20:17:17.179241Z"
    },
    "papermill": {
     "duration": 0.02774,
     "end_time": "2024-11-17T20:17:17.182763",
     "exception": false,
     "start_time": "2024-11-17T20:17:17.155023",
     "status": "completed"
    },
    "tags": []
   },
   "outputs": [
    {
     "data": {
      "text/plain": [
       "'\"Deleting redundant columns.\\nRenaming the columns.\\nDropping duplicates.\\nRemove the NaN values from the dataset\\nCheck for some more Transformations'"
      ]
     },
     "execution_count": 17,
     "metadata": {},
     "output_type": "execute_result"
    }
   ],
   "source": [
    "\"\"\"\"Deleting redundant columns.\n",
    "Renaming the columns.\n",
    "Dropping duplicates.\n",
    "Remove the NaN values from the dataset\n",
    "Check for some more Transformations\"\"\""
   ]
  },
  {
   "cell_type": "code",
   "execution_count": 18,
   "id": "304224ef",
   "metadata": {
    "execution": {
     "iopub.execute_input": "2024-11-17T20:17:17.218680Z",
     "iopub.status.busy": "2024-11-17T20:17:17.218236Z",
     "iopub.status.idle": "2024-11-17T20:17:17.223382Z",
     "shell.execute_reply": "2024-11-17T20:17:17.222147Z"
    },
    "papermill": {
     "duration": 0.026095,
     "end_time": "2024-11-17T20:17:17.225789",
     "exception": false,
     "start_time": "2024-11-17T20:17:17.199694",
     "status": "completed"
    },
    "tags": []
   },
   "outputs": [],
   "source": [
    "import matplotlib.pyplot as plt"
   ]
  },
  {
   "cell_type": "code",
   "execution_count": 19,
   "id": "bd79246b",
   "metadata": {
    "execution": {
     "iopub.execute_input": "2024-11-17T20:17:17.262070Z",
     "iopub.status.busy": "2024-11-17T20:17:17.261232Z",
     "iopub.status.idle": "2024-11-17T20:17:17.549862Z",
     "shell.execute_reply": "2024-11-17T20:17:17.548733Z"
    },
    "papermill": {
     "duration": 0.309756,
     "end_time": "2024-11-17T20:17:17.552507",
     "exception": false,
     "start_time": "2024-11-17T20:17:17.242751",
     "status": "completed"
    },
    "tags": []
   },
   "outputs": [
    {
     "data": {
      "image/png": "[encoded data removed]",
      "text/plain": [
       "<Figure size 640x480 with 1 Axes>"
      ]
     },
     "metadata": {},
     "output_type": "display_data"
    }
   ],
   "source": [
    "data.duplicated().value_counts().plot(kind=\"bar\")\n",
    "plt.title(\"Dublicate Rows\")\n",
    "plt.ylabel(\"\")\n",
    "plt.legend() # True and false are displayed on the top right.\n",
    "plt.show()"
   ]
  },
  {
   "cell_type": "code",
   "execution_count": 20,
   "id": "5c3acc99",
   "metadata": {
    "execution": {
     "iopub.execute_input": "2024-11-17T20:17:17.589623Z",
     "iopub.status.busy": "2024-11-17T20:17:17.589190Z",
     "iopub.status.idle": "2024-11-17T20:17:17.628123Z",
     "shell.execute_reply": "2024-11-17T20:17:17.626904Z"
    },
    "papermill": {
     "duration": 0.060681,
     "end_time": "2024-11-17T20:17:17.630672",
     "exception": false,
     "start_time": "2024-11-17T20:17:17.569991",
     "status": "completed"
    },
    "tags": []
   },
   "outputs": [
    {
     "data": {
      "text/plain": [
       "2827"
      ]
     },
     "execution_count": 20,
     "metadata": {},
     "output_type": "execute_result"
    }
   ],
   "source": [
    "data.duplicated().sum()"
   ]
  },
  {
   "cell_type": "code",
   "execution_count": 21,
   "id": "0db4c085",
   "metadata": {
    "execution": {
     "iopub.execute_input": "2024-11-17T20:17:17.669671Z",
     "iopub.status.busy": "2024-11-17T20:17:17.669232Z",
     "iopub.status.idle": "2024-11-17T20:17:17.707571Z",
     "shell.execute_reply": "2024-11-17T20:17:17.706390Z"
    },
    "papermill": {
     "duration": 0.060443,
     "end_time": "2024-11-17T20:17:17.710609",
     "exception": false,
     "start_time": "2024-11-17T20:17:17.650166",
     "status": "completed"
    },
    "tags": []
   },
   "outputs": [],
   "source": [
    "data.drop_duplicates(inplace=True)"
   ]
  },
  {
   "cell_type": "code",
   "execution_count": 22,
   "id": "46547374",
   "metadata": {
    "execution": {
     "iopub.execute_input": "2024-11-17T20:17:17.747878Z",
     "iopub.status.busy": "2024-11-17T20:17:17.747468Z",
     "iopub.status.idle": "2024-11-17T20:17:17.784032Z",
     "shell.execute_reply": "2024-11-17T20:17:17.782880Z"
    },
    "papermill": {
     "duration": 0.057861,
     "end_time": "2024-11-17T20:17:17.786559",
     "exception": false,
     "start_time": "2024-11-17T20:17:17.728698",
     "status": "completed"
    },
    "tags": []
   },
   "outputs": [
    {
     "data": {
      "text/plain": [
       "0"
      ]
     },
     "execution_count": 22,
     "metadata": {},
     "output_type": "execute_result"
    }
   ],
   "source": [
    "data.duplicated().sum()"
   ]
  },
  {
   "cell_type": "code",
   "execution_count": 23,
   "id": "b514d54d",
   "metadata": {
    "execution": {
     "iopub.execute_input": "2024-11-17T20:17:17.824128Z",
     "iopub.status.busy": "2024-11-17T20:17:17.823657Z",
     "iopub.status.idle": "2024-11-17T20:17:17.841218Z",
     "shell.execute_reply": "2024-11-17T20:17:17.839985Z"
    },
    "papermill": {
     "duration": 0.039629,
     "end_time": "2024-11-17T20:17:17.843871",
     "exception": false,
     "start_time": "2024-11-17T20:17:17.804242",
     "status": "completed"
    },
    "tags": []
   },
   "outputs": [
    {
     "data": {
      "text/html": [
       "<div>\n",
       "<style scoped>\n",
       "    .dataframe tbody tr th:only-of-type {\n",
       "        vertical-align: middle;\n",
       "    }\n",
       "\n",
       "    .dataframe tbody tr th {\n",
       "        vertical-align: top;\n",
       "    }\n",
       "\n",
       "    .dataframe thead th {\n",
       "        text-align: right;\n",
       "    }\n",
       "</style>\n",
       "<table border=\"1\" class=\"dataframe\">\n",
       "  <thead>\n",
       "    <tr style=\"text-align: right;\">\n",
       "      <th></th>\n",
       "      <th>BrandName</th>\n",
       "      <th>Details</th>\n",
       "      <th>Sizes</th>\n",
       "      <th>MRP</th>\n",
       "      <th>SellPrice</th>\n",
       "      <th>Discount</th>\n",
       "      <th>Category</th>\n",
       "    </tr>\n",
       "  </thead>\n",
       "  <tbody>\n",
       "    <tr>\n",
       "      <th>0</th>\n",
       "      <td>life</td>\n",
       "      <td>solid cotton blend collar neck womens a-line d...</td>\n",
       "      <td>Size:Large,Medium,Small,X-Large,X-Small</td>\n",
       "      <td>Rs\\n1699</td>\n",
       "      <td>849</td>\n",
       "      <td>50% off</td>\n",
       "      <td>Westernwear-Women</td>\n",
       "    </tr>\n",
       "    <tr>\n",
       "      <th>1</th>\n",
       "      <td>only</td>\n",
       "      <td>polyester peter pan collar womens blouson dres...</td>\n",
       "      <td>Size:34,36,38,40</td>\n",
       "      <td>Rs\\n3499</td>\n",
       "      <td>2449</td>\n",
       "      <td>30% off</td>\n",
       "      <td>Westernwear-Women</td>\n",
       "    </tr>\n",
       "    <tr>\n",
       "      <th>2</th>\n",
       "      <td>fratini</td>\n",
       "      <td>solid polyester blend wide neck womens regular...</td>\n",
       "      <td>Size:Large,X-Large,XX-Large</td>\n",
       "      <td>Rs\\n1199</td>\n",
       "      <td>599</td>\n",
       "      <td>50% off</td>\n",
       "      <td>Westernwear-Women</td>\n",
       "    </tr>\n",
       "    <tr>\n",
       "      <th>3</th>\n",
       "      <td>zink london</td>\n",
       "      <td>stripes polyester sweetheart neck womens dress...</td>\n",
       "      <td>Size:Large,Medium,Small,X-Large</td>\n",
       "      <td>Rs\\n2299</td>\n",
       "      <td>1379</td>\n",
       "      <td>40% off</td>\n",
       "      <td>Westernwear-Women</td>\n",
       "    </tr>\n",
       "    <tr>\n",
       "      <th>4</th>\n",
       "      <td>life</td>\n",
       "      <td>regular fit regular length denim womens jeans ...</td>\n",
       "      <td>Size:26,28,30,32,34,36</td>\n",
       "      <td>Rs\\n1699</td>\n",
       "      <td>849</td>\n",
       "      <td>50% off</td>\n",
       "      <td>Westernwear-Women</td>\n",
       "    </tr>\n",
       "    <tr>\n",
       "      <th>...</th>\n",
       "      <td>...</td>\n",
       "      <td>...</td>\n",
       "      <td>...</td>\n",
       "      <td>...</td>\n",
       "      <td>...</td>\n",
       "      <td>...</td>\n",
       "      <td>...</td>\n",
       "    </tr>\n",
       "    <tr>\n",
       "      <th>30752</th>\n",
       "      <td>shaya by caratlane</td>\n",
       "      <td>the wing woman clover charm necklace</td>\n",
       "      <td>Nan</td>\n",
       "      <td>Nan</td>\n",
       "      <td>1250</td>\n",
       "      <td>Nan</td>\n",
       "      <td>Jewellery-Women</td>\n",
       "    </tr>\n",
       "    <tr>\n",
       "      <th>30753</th>\n",
       "      <td>swarovski</td>\n",
       "      <td>crystal stylish womens rodhium earrings</td>\n",
       "      <td>Nan</td>\n",
       "      <td>Nan</td>\n",
       "      <td>8950</td>\n",
       "      <td>Nan</td>\n",
       "      <td>Jewellery-Women</td>\n",
       "    </tr>\n",
       "    <tr>\n",
       "      <th>30755</th>\n",
       "      <td>jewelz</td>\n",
       "      <td>ethnic gold plated jhumki earrings</td>\n",
       "      <td>Nan</td>\n",
       "      <td>Rs\\n1839</td>\n",
       "      <td>643</td>\n",
       "      <td>65% off</td>\n",
       "      <td>Jewellery-Women</td>\n",
       "    </tr>\n",
       "    <tr>\n",
       "      <th>30756</th>\n",
       "      <td>estelle</td>\n",
       "      <td>womens gold plated double line fancy white and...</td>\n",
       "      <td>Nan</td>\n",
       "      <td>Nan</td>\n",
       "      <td>2799</td>\n",
       "      <td>Nan</td>\n",
       "      <td>Jewellery-Women</td>\n",
       "    </tr>\n",
       "    <tr>\n",
       "      <th>30757</th>\n",
       "      <td>estelle</td>\n",
       "      <td>womens gold plated bridge designer mangalsutra...</td>\n",
       "      <td>Nan</td>\n",
       "      <td>Nan</td>\n",
       "      <td>1899</td>\n",
       "      <td>Nan</td>\n",
       "      <td>Jewellery-Women</td>\n",
       "    </tr>\n",
       "  </tbody>\n",
       "</table>\n",
       "<p>27931 rows × 7 columns</p>\n",
       "</div>"
      ],
      "text/plain": [
       "                BrandName                                            Details  \\\n",
       "0                    life  solid cotton blend collar neck womens a-line d...   \n",
       "1                    only  polyester peter pan collar womens blouson dres...   \n",
       "2                 fratini  solid polyester blend wide neck womens regular...   \n",
       "3             zink london  stripes polyester sweetheart neck womens dress...   \n",
       "4                    life  regular fit regular length denim womens jeans ...   \n",
       "...                   ...                                                ...   \n",
       "30752  shaya by caratlane               the wing woman clover charm necklace   \n",
       "30753           swarovski            crystal stylish womens rodhium earrings   \n",
       "30755              jewelz                 ethnic gold plated jhumki earrings   \n",
       "30756             estelle  womens gold plated double line fancy white and...   \n",
       "30757             estelle  womens gold plated bridge designer mangalsutra...   \n",
       "\n",
       "                                         Sizes       MRP SellPrice Discount  \\\n",
       "0      Size:Large,Medium,Small,X-Large,X-Small  Rs\\n1699       849  50% off   \n",
       "1                             Size:34,36,38,40  Rs\\n3499      2449  30% off   \n",
       "2                  Size:Large,X-Large,XX-Large  Rs\\n1199       599  50% off   \n",
       "3              Size:Large,Medium,Small,X-Large  Rs\\n2299      1379  40% off   \n",
       "4                       Size:26,28,30,32,34,36  Rs\\n1699       849  50% off   \n",
       "...                                        ...       ...       ...      ...   \n",
       "30752                                      Nan       Nan      1250      Nan   \n",
       "30753                                      Nan       Nan      8950      Nan   \n",
       "30755                                      Nan  Rs\\n1839       643  65% off   \n",
       "30756                                      Nan       Nan      2799      Nan   \n",
       "30757                                      Nan       Nan      1899      Nan   \n",
       "\n",
       "                Category  \n",
       "0      Westernwear-Women  \n",
       "1      Westernwear-Women  \n",
       "2      Westernwear-Women  \n",
       "3      Westernwear-Women  \n",
       "4      Westernwear-Women  \n",
       "...                  ...  \n",
       "30752    Jewellery-Women  \n",
       "30753    Jewellery-Women  \n",
       "30755    Jewellery-Women  \n",
       "30756    Jewellery-Women  \n",
       "30757    Jewellery-Women  \n",
       "\n",
       "[27931 rows x 7 columns]"
      ]
     },
     "execution_count": 23,
     "metadata": {},
     "output_type": "execute_result"
    }
   ],
   "source": [
    "data"
   ]
  },
  {
   "cell_type": "code",
   "execution_count": 24,
   "id": "1f319087",
   "metadata": {
    "execution": {
     "iopub.execute_input": "2024-11-17T20:17:17.882978Z",
     "iopub.status.busy": "2024-11-17T20:17:17.881892Z",
     "iopub.status.idle": "2024-11-17T20:17:17.894334Z",
     "shell.execute_reply": "2024-11-17T20:17:17.893267Z"
    },
    "papermill": {
     "duration": 0.03463,
     "end_time": "2024-11-17T20:17:17.897013",
     "exception": false,
     "start_time": "2024-11-17T20:17:17.862383",
     "status": "completed"
    },
    "tags": []
   },
   "outputs": [],
   "source": [
    "# We assign it to the data variable so that it becomes permanent\n",
    "# There are 27931 lines visible but there are 30757 lines, let's fix it like this\n",
    "data = data.reset_index().drop(columns=\"index\")"
   ]
  },
  {
   "cell_type": "code",
   "execution_count": 25,
   "id": "dcf6f2c6",
   "metadata": {
    "execution": {
     "iopub.execute_input": "2024-11-17T20:17:17.935118Z",
     "iopub.status.busy": "2024-11-17T20:17:17.934650Z",
     "iopub.status.idle": "2024-11-17T20:17:17.951846Z",
     "shell.execute_reply": "2024-11-17T20:17:17.950647Z"
    },
    "papermill": {
     "duration": 0.039086,
     "end_time": "2024-11-17T20:17:17.954272",
     "exception": false,
     "start_time": "2024-11-17T20:17:17.915186",
     "status": "completed"
    },
    "tags": []
   },
   "outputs": [
    {
     "data": {
      "text/html": [
       "<div>\n",
       "<style scoped>\n",
       "    .dataframe tbody tr th:only-of-type {\n",
       "        vertical-align: middle;\n",
       "    }\n",
       "\n",
       "    .dataframe tbody tr th {\n",
       "        vertical-align: top;\n",
       "    }\n",
       "\n",
       "    .dataframe thead th {\n",
       "        text-align: right;\n",
       "    }\n",
       "</style>\n",
       "<table border=\"1\" class=\"dataframe\">\n",
       "  <thead>\n",
       "    <tr style=\"text-align: right;\">\n",
       "      <th></th>\n",
       "      <th>BrandName</th>\n",
       "      <th>Details</th>\n",
       "      <th>Sizes</th>\n",
       "      <th>MRP</th>\n",
       "      <th>SellPrice</th>\n",
       "      <th>Discount</th>\n",
       "      <th>Category</th>\n",
       "    </tr>\n",
       "  </thead>\n",
       "  <tbody>\n",
       "    <tr>\n",
       "      <th>0</th>\n",
       "      <td>life</td>\n",
       "      <td>solid cotton blend collar neck womens a-line d...</td>\n",
       "      <td>Size:Large,Medium,Small,X-Large,X-Small</td>\n",
       "      <td>Rs\\n1699</td>\n",
       "      <td>849</td>\n",
       "      <td>50% off</td>\n",
       "      <td>Westernwear-Women</td>\n",
       "    </tr>\n",
       "    <tr>\n",
       "      <th>1</th>\n",
       "      <td>only</td>\n",
       "      <td>polyester peter pan collar womens blouson dres...</td>\n",
       "      <td>Size:34,36,38,40</td>\n",
       "      <td>Rs\\n3499</td>\n",
       "      <td>2449</td>\n",
       "      <td>30% off</td>\n",
       "      <td>Westernwear-Women</td>\n",
       "    </tr>\n",
       "    <tr>\n",
       "      <th>2</th>\n",
       "      <td>fratini</td>\n",
       "      <td>solid polyester blend wide neck womens regular...</td>\n",
       "      <td>Size:Large,X-Large,XX-Large</td>\n",
       "      <td>Rs\\n1199</td>\n",
       "      <td>599</td>\n",
       "      <td>50% off</td>\n",
       "      <td>Westernwear-Women</td>\n",
       "    </tr>\n",
       "    <tr>\n",
       "      <th>3</th>\n",
       "      <td>zink london</td>\n",
       "      <td>stripes polyester sweetheart neck womens dress...</td>\n",
       "      <td>Size:Large,Medium,Small,X-Large</td>\n",
       "      <td>Rs\\n2299</td>\n",
       "      <td>1379</td>\n",
       "      <td>40% off</td>\n",
       "      <td>Westernwear-Women</td>\n",
       "    </tr>\n",
       "    <tr>\n",
       "      <th>4</th>\n",
       "      <td>life</td>\n",
       "      <td>regular fit regular length denim womens jeans ...</td>\n",
       "      <td>Size:26,28,30,32,34,36</td>\n",
       "      <td>Rs\\n1699</td>\n",
       "      <td>849</td>\n",
       "      <td>50% off</td>\n",
       "      <td>Westernwear-Women</td>\n",
       "    </tr>\n",
       "    <tr>\n",
       "      <th>...</th>\n",
       "      <td>...</td>\n",
       "      <td>...</td>\n",
       "      <td>...</td>\n",
       "      <td>...</td>\n",
       "      <td>...</td>\n",
       "      <td>...</td>\n",
       "      <td>...</td>\n",
       "    </tr>\n",
       "    <tr>\n",
       "      <th>27926</th>\n",
       "      <td>shaya by caratlane</td>\n",
       "      <td>the wing woman clover charm necklace</td>\n",
       "      <td>Nan</td>\n",
       "      <td>Nan</td>\n",
       "      <td>1250</td>\n",
       "      <td>Nan</td>\n",
       "      <td>Jewellery-Women</td>\n",
       "    </tr>\n",
       "    <tr>\n",
       "      <th>27927</th>\n",
       "      <td>swarovski</td>\n",
       "      <td>crystal stylish womens rodhium earrings</td>\n",
       "      <td>Nan</td>\n",
       "      <td>Nan</td>\n",
       "      <td>8950</td>\n",
       "      <td>Nan</td>\n",
       "      <td>Jewellery-Women</td>\n",
       "    </tr>\n",
       "    <tr>\n",
       "      <th>27928</th>\n",
       "      <td>jewelz</td>\n",
       "      <td>ethnic gold plated jhumki earrings</td>\n",
       "      <td>Nan</td>\n",
       "      <td>Rs\\n1839</td>\n",
       "      <td>643</td>\n",
       "      <td>65% off</td>\n",
       "      <td>Jewellery-Women</td>\n",
       "    </tr>\n",
       "    <tr>\n",
       "      <th>27929</th>\n",
       "      <td>estelle</td>\n",
       "      <td>womens gold plated double line fancy white and...</td>\n",
       "      <td>Nan</td>\n",
       "      <td>Nan</td>\n",
       "      <td>2799</td>\n",
       "      <td>Nan</td>\n",
       "      <td>Jewellery-Women</td>\n",
       "    </tr>\n",
       "    <tr>\n",
       "      <th>27930</th>\n",
       "      <td>estelle</td>\n",
       "      <td>womens gold plated bridge designer mangalsutra...</td>\n",
       "      <td>Nan</td>\n",
       "      <td>Nan</td>\n",
       "      <td>1899</td>\n",
       "      <td>Nan</td>\n",
       "      <td>Jewellery-Women</td>\n",
       "    </tr>\n",
       "  </tbody>\n",
       "</table>\n",
       "<p>27931 rows × 7 columns</p>\n",
       "</div>"
      ],
      "text/plain": [
       "                BrandName                                            Details  \\\n",
       "0                    life  solid cotton blend collar neck womens a-line d...   \n",
       "1                    only  polyester peter pan collar womens blouson dres...   \n",
       "2                 fratini  solid polyester blend wide neck womens regular...   \n",
       "3             zink london  stripes polyester sweetheart neck womens dress...   \n",
       "4                    life  regular fit regular length denim womens jeans ...   \n",
       "...                   ...                                                ...   \n",
       "27926  shaya by caratlane               the wing woman clover charm necklace   \n",
       "27927           swarovski            crystal stylish womens rodhium earrings   \n",
       "27928              jewelz                 ethnic gold plated jhumki earrings   \n",
       "27929             estelle  womens gold plated double line fancy white and...   \n",
       "27930             estelle  womens gold plated bridge designer mangalsutra...   \n",
       "\n",
       "                                         Sizes       MRP SellPrice Discount  \\\n",
       "0      Size:Large,Medium,Small,X-Large,X-Small  Rs\\n1699       849  50% off   \n",
       "1                             Size:34,36,38,40  Rs\\n3499      2449  30% off   \n",
       "2                  Size:Large,X-Large,XX-Large  Rs\\n1199       599  50% off   \n",
       "3              Size:Large,Medium,Small,X-Large  Rs\\n2299      1379  40% off   \n",
       "4                       Size:26,28,30,32,34,36  Rs\\n1699       849  50% off   \n",
       "...                                        ...       ...       ...      ...   \n",
       "27926                                      Nan       Nan      1250      Nan   \n",
       "27927                                      Nan       Nan      8950      Nan   \n",
       "27928                                      Nan  Rs\\n1839       643  65% off   \n",
       "27929                                      Nan       Nan      2799      Nan   \n",
       "27930                                      Nan       Nan      1899      Nan   \n",
       "\n",
       "                Category  \n",
       "0      Westernwear-Women  \n",
       "1      Westernwear-Women  \n",
       "2      Westernwear-Women  \n",
       "3      Westernwear-Women  \n",
       "4      Westernwear-Women  \n",
       "...                  ...  \n",
       "27926    Jewellery-Women  \n",
       "27927    Jewellery-Women  \n",
       "27928    Jewellery-Women  \n",
       "27929    Jewellery-Women  \n",
       "27930    Jewellery-Women  \n",
       "\n",
       "[27931 rows x 7 columns]"
      ]
     },
     "execution_count": 25,
     "metadata": {},
     "output_type": "execute_result"
    }
   ],
   "source": [
    "data"
   ]
  },
  {
   "cell_type": "code",
   "execution_count": 26,
   "id": "87d95e2f",
   "metadata": {
    "execution": {
     "iopub.execute_input": "2024-11-17T20:17:17.993148Z",
     "iopub.status.busy": "2024-11-17T20:17:17.992688Z",
     "iopub.status.idle": "2024-11-17T20:17:17.999677Z",
     "shell.execute_reply": "2024-11-17T20:17:17.998649Z"
    },
    "papermill": {
     "duration": 0.029627,
     "end_time": "2024-11-17T20:17:18.002270",
     "exception": false,
     "start_time": "2024-11-17T20:17:17.972643",
     "status": "completed"
    },
    "tags": []
   },
   "outputs": [
    {
     "data": {
      "text/plain": [
       "'\"Deleting redundant columns.\\nRenaming the columns.\\nDropping duplicates.\\nRemove the NaN values from the dataset\\nCheck for some more Transformations'"
      ]
     },
     "execution_count": 26,
     "metadata": {},
     "output_type": "execute_result"
    }
   ],
   "source": [
    "\"\"\"\"Deleting redundant columns.\n",
    "Renaming the columns.\n",
    "Dropping duplicates.\n",
    "Remove the NaN values from the dataset\n",
    "Check for some more Transformations\"\"\""
   ]
  },
  {
   "cell_type": "code",
   "execution_count": 27,
   "id": "6cc70195",
   "metadata": {
    "execution": {
     "iopub.execute_input": "2024-11-17T20:17:18.041626Z",
     "iopub.status.busy": "2024-11-17T20:17:18.041191Z",
     "iopub.status.idle": "2024-11-17T20:17:18.071442Z",
     "shell.execute_reply": "2024-11-17T20:17:18.070342Z"
    },
    "papermill": {
     "duration": 0.053418,
     "end_time": "2024-11-17T20:17:18.074110",
     "exception": false,
     "start_time": "2024-11-17T20:17:18.020692",
     "status": "completed"
    },
    "tags": []
   },
   "outputs": [
    {
     "data": {
      "text/plain": [
       "BrandName    0\n",
       "Details      0\n",
       "Sizes        0\n",
       "MRP          0\n",
       "SellPrice    0\n",
       "Discount     0\n",
       "Category     0\n",
       "dtype: int64"
      ]
     },
     "execution_count": 27,
     "metadata": {},
     "output_type": "execute_result"
    }
   ],
   "source": [
    "#isna() function returns a Boolean value of True if the value is NaN and False otherwise\n",
    "data.isna().sum()"
   ]
  },
  {
   "cell_type": "code",
   "execution_count": 28,
   "id": "550ac664",
   "metadata": {
    "execution": {
     "iopub.execute_input": "2024-11-17T20:17:18.114710Z",
     "iopub.status.busy": "2024-11-17T20:17:18.114231Z",
     "iopub.status.idle": "2024-11-17T20:17:18.145017Z",
     "shell.execute_reply": "2024-11-17T20:17:18.143927Z"
    },
    "papermill": {
     "duration": 0.054462,
     "end_time": "2024-11-17T20:17:18.147961",
     "exception": false,
     "start_time": "2024-11-17T20:17:18.093499",
     "status": "completed"
    },
    "tags": []
   },
   "outputs": [],
   "source": [
    "data.dropna(inplace=True)"
   ]
  },
  {
   "cell_type": "code",
   "execution_count": 29,
   "id": "44a83758",
   "metadata": {
    "execution": {
     "iopub.execute_input": "2024-11-17T20:17:18.187692Z",
     "iopub.status.busy": "2024-11-17T20:17:18.187230Z",
     "iopub.status.idle": "2024-11-17T20:17:18.218316Z",
     "shell.execute_reply": "2024-11-17T20:17:18.217099Z"
    },
    "papermill": {
     "duration": 0.05416,
     "end_time": "2024-11-17T20:17:18.221096",
     "exception": false,
     "start_time": "2024-11-17T20:17:18.166936",
     "status": "completed"
    },
    "tags": []
   },
   "outputs": [
    {
     "data": {
      "text/plain": [
       "BrandName    0\n",
       "Details      0\n",
       "Sizes        0\n",
       "MRP          0\n",
       "SellPrice    0\n",
       "Discount     0\n",
       "Category     0\n",
       "dtype: int64"
      ]
     },
     "execution_count": 29,
     "metadata": {},
     "output_type": "execute_result"
    }
   ],
   "source": [
    "data.isna().sum()"
   ]
  },
  {
   "cell_type": "code",
   "execution_count": 30,
   "id": "014a4464",
   "metadata": {
    "execution": {
     "iopub.execute_input": "2024-11-17T20:17:18.261412Z",
     "iopub.status.busy": "2024-11-17T20:17:18.260952Z",
     "iopub.status.idle": "2024-11-17T20:17:18.267821Z",
     "shell.execute_reply": "2024-11-17T20:17:18.266835Z"
    },
    "papermill": {
     "duration": 0.029853,
     "end_time": "2024-11-17T20:17:18.270462",
     "exception": false,
     "start_time": "2024-11-17T20:17:18.240609",
     "status": "completed"
    },
    "tags": []
   },
   "outputs": [
    {
     "data": {
      "text/plain": [
       "'\"Deleting redundant columns.\\nRenaming the columns.\\nDropping duplicates.\\nRemove the NaN values from the dataset\\nCheck for some more Transformations'"
      ]
     },
     "execution_count": 30,
     "metadata": {},
     "output_type": "execute_result"
    }
   ],
   "source": [
    "\"\"\"\"Deleting redundant columns.\n",
    "Renaming the columns.\n",
    "Dropping duplicates.\n",
    "Remove the NaN values from the dataset\n",
    "Check for some more Transformations\"\"\""
   ]
  },
  {
   "cell_type": "code",
   "execution_count": 31,
   "id": "e93cdfb8",
   "metadata": {
    "execution": {
     "iopub.execute_input": "2024-11-17T20:17:18.311595Z",
     "iopub.status.busy": "2024-11-17T20:17:18.311159Z",
     "iopub.status.idle": "2024-11-17T20:17:18.328449Z",
     "shell.execute_reply": "2024-11-17T20:17:18.327228Z"
    },
    "papermill": {
     "duration": 0.041073,
     "end_time": "2024-11-17T20:17:18.331227",
     "exception": false,
     "start_time": "2024-11-17T20:17:18.290154",
     "status": "completed"
    },
    "tags": []
   },
   "outputs": [
    {
     "data": {
      "text/html": [
       "<div>\n",
       "<style scoped>\n",
       "    .dataframe tbody tr th:only-of-type {\n",
       "        vertical-align: middle;\n",
       "    }\n",
       "\n",
       "    .dataframe tbody tr th {\n",
       "        vertical-align: top;\n",
       "    }\n",
       "\n",
       "    .dataframe thead th {\n",
       "        text-align: right;\n",
       "    }\n",
       "</style>\n",
       "<table border=\"1\" class=\"dataframe\">\n",
       "  <thead>\n",
       "    <tr style=\"text-align: right;\">\n",
       "      <th></th>\n",
       "      <th>BrandName</th>\n",
       "      <th>Details</th>\n",
       "      <th>Sizes</th>\n",
       "      <th>MRP</th>\n",
       "      <th>SellPrice</th>\n",
       "      <th>Discount</th>\n",
       "      <th>Category</th>\n",
       "    </tr>\n",
       "  </thead>\n",
       "  <tbody>\n",
       "    <tr>\n",
       "      <th>0</th>\n",
       "      <td>life</td>\n",
       "      <td>solid cotton blend collar neck womens a-line d...</td>\n",
       "      <td>Size:Large,Medium,Small,X-Large,X-Small</td>\n",
       "      <td>Rs\\n1699</td>\n",
       "      <td>849</td>\n",
       "      <td>50% off</td>\n",
       "      <td>Westernwear-Women</td>\n",
       "    </tr>\n",
       "    <tr>\n",
       "      <th>1</th>\n",
       "      <td>only</td>\n",
       "      <td>polyester peter pan collar womens blouson dres...</td>\n",
       "      <td>Size:34,36,38,40</td>\n",
       "      <td>Rs\\n3499</td>\n",
       "      <td>2449</td>\n",
       "      <td>30% off</td>\n",
       "      <td>Westernwear-Women</td>\n",
       "    </tr>\n",
       "    <tr>\n",
       "      <th>2</th>\n",
       "      <td>fratini</td>\n",
       "      <td>solid polyester blend wide neck womens regular...</td>\n",
       "      <td>Size:Large,X-Large,XX-Large</td>\n",
       "      <td>Rs\\n1199</td>\n",
       "      <td>599</td>\n",
       "      <td>50% off</td>\n",
       "      <td>Westernwear-Women</td>\n",
       "    </tr>\n",
       "    <tr>\n",
       "      <th>3</th>\n",
       "      <td>zink london</td>\n",
       "      <td>stripes polyester sweetheart neck womens dress...</td>\n",
       "      <td>Size:Large,Medium,Small,X-Large</td>\n",
       "      <td>Rs\\n2299</td>\n",
       "      <td>1379</td>\n",
       "      <td>40% off</td>\n",
       "      <td>Westernwear-Women</td>\n",
       "    </tr>\n",
       "    <tr>\n",
       "      <th>4</th>\n",
       "      <td>life</td>\n",
       "      <td>regular fit regular length denim womens jeans ...</td>\n",
       "      <td>Size:26,28,30,32,34,36</td>\n",
       "      <td>Rs\\n1699</td>\n",
       "      <td>849</td>\n",
       "      <td>50% off</td>\n",
       "      <td>Westernwear-Women</td>\n",
       "    </tr>\n",
       "    <tr>\n",
       "      <th>...</th>\n",
       "      <td>...</td>\n",
       "      <td>...</td>\n",
       "      <td>...</td>\n",
       "      <td>...</td>\n",
       "      <td>...</td>\n",
       "      <td>...</td>\n",
       "      <td>...</td>\n",
       "    </tr>\n",
       "    <tr>\n",
       "      <th>27926</th>\n",
       "      <td>shaya by caratlane</td>\n",
       "      <td>the wing woman clover charm necklace</td>\n",
       "      <td>Nan</td>\n",
       "      <td>Nan</td>\n",
       "      <td>1250</td>\n",
       "      <td>Nan</td>\n",
       "      <td>Jewellery-Women</td>\n",
       "    </tr>\n",
       "    <tr>\n",
       "      <th>27927</th>\n",
       "      <td>swarovski</td>\n",
       "      <td>crystal stylish womens rodhium earrings</td>\n",
       "      <td>Nan</td>\n",
       "      <td>Nan</td>\n",
       "      <td>8950</td>\n",
       "      <td>Nan</td>\n",
       "      <td>Jewellery-Women</td>\n",
       "    </tr>\n",
       "    <tr>\n",
       "      <th>27928</th>\n",
       "      <td>jewelz</td>\n",
       "      <td>ethnic gold plated jhumki earrings</td>\n",
       "      <td>Nan</td>\n",
       "      <td>Rs\\n1839</td>\n",
       "      <td>643</td>\n",
       "      <td>65% off</td>\n",
       "      <td>Jewellery-Women</td>\n",
       "    </tr>\n",
       "    <tr>\n",
       "      <th>27929</th>\n",
       "      <td>estelle</td>\n",
       "      <td>womens gold plated double line fancy white and...</td>\n",
       "      <td>Nan</td>\n",
       "      <td>Nan</td>\n",
       "      <td>2799</td>\n",
       "      <td>Nan</td>\n",
       "      <td>Jewellery-Women</td>\n",
       "    </tr>\n",
       "    <tr>\n",
       "      <th>27930</th>\n",
       "      <td>estelle</td>\n",
       "      <td>womens gold plated bridge designer mangalsutra...</td>\n",
       "      <td>Nan</td>\n",
       "      <td>Nan</td>\n",
       "      <td>1899</td>\n",
       "      <td>Nan</td>\n",
       "      <td>Jewellery-Women</td>\n",
       "    </tr>\n",
       "  </tbody>\n",
       "</table>\n",
       "<p>27931 rows × 7 columns</p>\n",
       "</div>"
      ],
      "text/plain": [
       "                BrandName                                            Details  \\\n",
       "0                    life  solid cotton blend collar neck womens a-line d...   \n",
       "1                    only  polyester peter pan collar womens blouson dres...   \n",
       "2                 fratini  solid polyester blend wide neck womens regular...   \n",
       "3             zink london  stripes polyester sweetheart neck womens dress...   \n",
       "4                    life  regular fit regular length denim womens jeans ...   \n",
       "...                   ...                                                ...   \n",
       "27926  shaya by caratlane               the wing woman clover charm necklace   \n",
       "27927           swarovski            crystal stylish womens rodhium earrings   \n",
       "27928              jewelz                 ethnic gold plated jhumki earrings   \n",
       "27929             estelle  womens gold plated double line fancy white and...   \n",
       "27930             estelle  womens gold plated bridge designer mangalsutra...   \n",
       "\n",
       "                                         Sizes       MRP SellPrice Discount  \\\n",
       "0      Size:Large,Medium,Small,X-Large,X-Small  Rs\\n1699       849  50% off   \n",
       "1                             Size:34,36,38,40  Rs\\n3499      2449  30% off   \n",
       "2                  Size:Large,X-Large,XX-Large  Rs\\n1199       599  50% off   \n",
       "3              Size:Large,Medium,Small,X-Large  Rs\\n2299      1379  40% off   \n",
       "4                       Size:26,28,30,32,34,36  Rs\\n1699       849  50% off   \n",
       "...                                        ...       ...       ...      ...   \n",
       "27926                                      Nan       Nan      1250      Nan   \n",
       "27927                                      Nan       Nan      8950      Nan   \n",
       "27928                                      Nan  Rs\\n1839       643  65% off   \n",
       "27929                                      Nan       Nan      2799      Nan   \n",
       "27930                                      Nan       Nan      1899      Nan   \n",
       "\n",
       "                Category  \n",
       "0      Westernwear-Women  \n",
       "1      Westernwear-Women  \n",
       "2      Westernwear-Women  \n",
       "3      Westernwear-Women  \n",
       "4      Westernwear-Women  \n",
       "...                  ...  \n",
       "27926    Jewellery-Women  \n",
       "27927    Jewellery-Women  \n",
       "27928    Jewellery-Women  \n",
       "27929    Jewellery-Women  \n",
       "27930    Jewellery-Women  \n",
       "\n",
       "[27931 rows x 7 columns]"
      ]
     },
     "execution_count": 31,
     "metadata": {},
     "output_type": "execute_result"
    }
   ],
   "source": [
    "data"
   ]
  },
  {
   "cell_type": "code",
   "execution_count": 32,
   "id": "da7f1a7c",
   "metadata": {
    "execution": {
     "iopub.execute_input": "2024-11-17T20:17:18.372977Z",
     "iopub.status.busy": "2024-11-17T20:17:18.372553Z",
     "iopub.status.idle": "2024-11-17T20:17:18.394341Z",
     "shell.execute_reply": "2024-11-17T20:17:18.393233Z"
    },
    "papermill": {
     "duration": 0.045544,
     "end_time": "2024-11-17T20:17:18.396895",
     "exception": false,
     "start_time": "2024-11-17T20:17:18.351351",
     "status": "completed"
    },
    "tags": []
   },
   "outputs": [],
   "source": [
    "data[\"BrandName\"] = data[\"BrandName\"].apply(lambda x : x.capitalize())"
   ]
  },
  {
   "cell_type": "code",
   "execution_count": 33,
   "id": "e28a6e20",
   "metadata": {
    "execution": {
     "iopub.execute_input": "2024-11-17T20:17:18.438106Z",
     "iopub.status.busy": "2024-11-17T20:17:18.437663Z",
     "iopub.status.idle": "2024-11-17T20:17:18.475663Z",
     "shell.execute_reply": "2024-11-17T20:17:18.474585Z"
    },
    "papermill": {
     "duration": 0.061591,
     "end_time": "2024-11-17T20:17:18.478466",
     "exception": false,
     "start_time": "2024-11-17T20:17:18.416875",
     "status": "completed"
    },
    "tags": []
   },
   "outputs": [],
   "source": [
    "data[\"Details\"] = data[\"Details\"].apply(lambda x : x.capitalize())"
   ]
  },
  {
   "cell_type": "code",
   "execution_count": 34,
   "id": "1b90f6bc",
   "metadata": {
    "execution": {
     "iopub.execute_input": "2024-11-17T20:17:18.518922Z",
     "iopub.status.busy": "2024-11-17T20:17:18.518509Z",
     "iopub.status.idle": "2024-11-17T20:17:18.535311Z",
     "shell.execute_reply": "2024-11-17T20:17:18.533974Z"
    },
    "papermill": {
     "duration": 0.04013,
     "end_time": "2024-11-17T20:17:18.537856",
     "exception": false,
     "start_time": "2024-11-17T20:17:18.497726",
     "status": "completed"
    },
    "tags": []
   },
   "outputs": [
    {
     "data": {
      "text/html": [
       "<div>\n",
       "<style scoped>\n",
       "    .dataframe tbody tr th:only-of-type {\n",
       "        vertical-align: middle;\n",
       "    }\n",
       "\n",
       "    .dataframe tbody tr th {\n",
       "        vertical-align: top;\n",
       "    }\n",
       "\n",
       "    .dataframe thead th {\n",
       "        text-align: right;\n",
       "    }\n",
       "</style>\n",
       "<table border=\"1\" class=\"dataframe\">\n",
       "  <thead>\n",
       "    <tr style=\"text-align: right;\">\n",
       "      <th></th>\n",
       "      <th>BrandName</th>\n",
       "      <th>Details</th>\n",
       "      <th>Sizes</th>\n",
       "      <th>MRP</th>\n",
       "      <th>SellPrice</th>\n",
       "      <th>Discount</th>\n",
       "      <th>Category</th>\n",
       "    </tr>\n",
       "  </thead>\n",
       "  <tbody>\n",
       "    <tr>\n",
       "      <th>0</th>\n",
       "      <td>Life</td>\n",
       "      <td>Solid cotton blend collar neck womens a-line d...</td>\n",
       "      <td>Size:Large,Medium,Small,X-Large,X-Small</td>\n",
       "      <td>Rs\\n1699</td>\n",
       "      <td>849</td>\n",
       "      <td>50% off</td>\n",
       "      <td>Westernwear-Women</td>\n",
       "    </tr>\n",
       "    <tr>\n",
       "      <th>1</th>\n",
       "      <td>Only</td>\n",
       "      <td>Polyester peter pan collar womens blouson dres...</td>\n",
       "      <td>Size:34,36,38,40</td>\n",
       "      <td>Rs\\n3499</td>\n",
       "      <td>2449</td>\n",
       "      <td>30% off</td>\n",
       "      <td>Westernwear-Women</td>\n",
       "    </tr>\n",
       "    <tr>\n",
       "      <th>2</th>\n",
       "      <td>Fratini</td>\n",
       "      <td>Solid polyester blend wide neck womens regular...</td>\n",
       "      <td>Size:Large,X-Large,XX-Large</td>\n",
       "      <td>Rs\\n1199</td>\n",
       "      <td>599</td>\n",
       "      <td>50% off</td>\n",
       "      <td>Westernwear-Women</td>\n",
       "    </tr>\n",
       "    <tr>\n",
       "      <th>3</th>\n",
       "      <td>Zink london</td>\n",
       "      <td>Stripes polyester sweetheart neck womens dress...</td>\n",
       "      <td>Size:Large,Medium,Small,X-Large</td>\n",
       "      <td>Rs\\n2299</td>\n",
       "      <td>1379</td>\n",
       "      <td>40% off</td>\n",
       "      <td>Westernwear-Women</td>\n",
       "    </tr>\n",
       "    <tr>\n",
       "      <th>4</th>\n",
       "      <td>Life</td>\n",
       "      <td>Regular fit regular length denim womens jeans ...</td>\n",
       "      <td>Size:26,28,30,32,34,36</td>\n",
       "      <td>Rs\\n1699</td>\n",
       "      <td>849</td>\n",
       "      <td>50% off</td>\n",
       "      <td>Westernwear-Women</td>\n",
       "    </tr>\n",
       "    <tr>\n",
       "      <th>...</th>\n",
       "      <td>...</td>\n",
       "      <td>...</td>\n",
       "      <td>...</td>\n",
       "      <td>...</td>\n",
       "      <td>...</td>\n",
       "      <td>...</td>\n",
       "      <td>...</td>\n",
       "    </tr>\n",
       "    <tr>\n",
       "      <th>27926</th>\n",
       "      <td>Shaya by caratlane</td>\n",
       "      <td>The wing woman clover charm necklace</td>\n",
       "      <td>Nan</td>\n",
       "      <td>Nan</td>\n",
       "      <td>1250</td>\n",
       "      <td>Nan</td>\n",
       "      <td>Jewellery-Women</td>\n",
       "    </tr>\n",
       "    <tr>\n",
       "      <th>27927</th>\n",
       "      <td>Swarovski</td>\n",
       "      <td>Crystal stylish womens rodhium earrings</td>\n",
       "      <td>Nan</td>\n",
       "      <td>Nan</td>\n",
       "      <td>8950</td>\n",
       "      <td>Nan</td>\n",
       "      <td>Jewellery-Women</td>\n",
       "    </tr>\n",
       "    <tr>\n",
       "      <th>27928</th>\n",
       "      <td>Jewelz</td>\n",
       "      <td>Ethnic gold plated jhumki earrings</td>\n",
       "      <td>Nan</td>\n",
       "      <td>Rs\\n1839</td>\n",
       "      <td>643</td>\n",
       "      <td>65% off</td>\n",
       "      <td>Jewellery-Women</td>\n",
       "    </tr>\n",
       "    <tr>\n",
       "      <th>27929</th>\n",
       "      <td>Estelle</td>\n",
       "      <td>Womens gold plated double line fancy white and...</td>\n",
       "      <td>Nan</td>\n",
       "      <td>Nan</td>\n",
       "      <td>2799</td>\n",
       "      <td>Nan</td>\n",
       "      <td>Jewellery-Women</td>\n",
       "    </tr>\n",
       "    <tr>\n",
       "      <th>27930</th>\n",
       "      <td>Estelle</td>\n",
       "      <td>Womens gold plated bridge designer mangalsutra...</td>\n",
       "      <td>Nan</td>\n",
       "      <td>Nan</td>\n",
       "      <td>1899</td>\n",
       "      <td>Nan</td>\n",
       "      <td>Jewellery-Women</td>\n",
       "    </tr>\n",
       "  </tbody>\n",
       "</table>\n",
       "<p>27931 rows × 7 columns</p>\n",
       "</div>"
      ],
      "text/plain": [
       "                BrandName                                            Details  \\\n",
       "0                    Life  Solid cotton blend collar neck womens a-line d...   \n",
       "1                    Only  Polyester peter pan collar womens blouson dres...   \n",
       "2                 Fratini  Solid polyester blend wide neck womens regular...   \n",
       "3             Zink london  Stripes polyester sweetheart neck womens dress...   \n",
       "4                    Life  Regular fit regular length denim womens jeans ...   \n",
       "...                   ...                                                ...   \n",
       "27926  Shaya by caratlane               The wing woman clover charm necklace   \n",
       "27927           Swarovski            Crystal stylish womens rodhium earrings   \n",
       "27928              Jewelz                 Ethnic gold plated jhumki earrings   \n",
       "27929             Estelle  Womens gold plated double line fancy white and...   \n",
       "27930             Estelle  Womens gold plated bridge designer mangalsutra...   \n",
       "\n",
       "                                         Sizes       MRP SellPrice Discount  \\\n",
       "0      Size:Large,Medium,Small,X-Large,X-Small  Rs\\n1699       849  50% off   \n",
       "1                             Size:34,36,38,40  Rs\\n3499      2449  30% off   \n",
       "2                  Size:Large,X-Large,XX-Large  Rs\\n1199       599  50% off   \n",
       "3              Size:Large,Medium,Small,X-Large  Rs\\n2299      1379  40% off   \n",
       "4                       Size:26,28,30,32,34,36  Rs\\n1699       849  50% off   \n",
       "...                                        ...       ...       ...      ...   \n",
       "27926                                      Nan       Nan      1250      Nan   \n",
       "27927                                      Nan       Nan      8950      Nan   \n",
       "27928                                      Nan  Rs\\n1839       643  65% off   \n",
       "27929                                      Nan       Nan      2799      Nan   \n",
       "27930                                      Nan       Nan      1899      Nan   \n",
       "\n",
       "                Category  \n",
       "0      Westernwear-Women  \n",
       "1      Westernwear-Women  \n",
       "2      Westernwear-Women  \n",
       "3      Westernwear-Women  \n",
       "4      Westernwear-Women  \n",
       "...                  ...  \n",
       "27926    Jewellery-Women  \n",
       "27927    Jewellery-Women  \n",
       "27928    Jewellery-Women  \n",
       "27929    Jewellery-Women  \n",
       "27930    Jewellery-Women  \n",
       "\n",
       "[27931 rows x 7 columns]"
      ]
     },
     "execution_count": 34,
     "metadata": {},
     "output_type": "execute_result"
    }
   ],
   "source": [
    "data"
   ]
  },
  {
   "cell_type": "code",
   "execution_count": 35,
   "id": "f4278387",
   "metadata": {
    "execution": {
     "iopub.execute_input": "2024-11-17T20:17:18.579241Z",
     "iopub.status.busy": "2024-11-17T20:17:18.578770Z",
     "iopub.status.idle": "2024-11-17T20:17:18.586534Z",
     "shell.execute_reply": "2024-11-17T20:17:18.585344Z"
    },
    "papermill": {
     "duration": 0.031118,
     "end_time": "2024-11-17T20:17:18.588895",
     "exception": false,
     "start_time": "2024-11-17T20:17:18.557777",
     "status": "completed"
    },
    "tags": []
   },
   "outputs": [
    {
     "data": {
      "text/plain": [
       "str"
      ]
     },
     "execution_count": 35,
     "metadata": {},
     "output_type": "execute_result"
    }
   ],
   "source": [
    "# We are looking at 27929 lines\n",
    "type(data[\"Sizes\"][27929])"
   ]
  },
  {
   "cell_type": "code",
   "execution_count": 36,
   "id": "d7d06513",
   "metadata": {
    "execution": {
     "iopub.execute_input": "2024-11-17T20:17:18.631386Z",
     "iopub.status.busy": "2024-11-17T20:17:18.630271Z",
     "iopub.status.idle": "2024-11-17T20:17:18.643680Z",
     "shell.execute_reply": "2024-11-17T20:17:18.642456Z"
    },
    "papermill": {
     "duration": 0.037719,
     "end_time": "2024-11-17T20:17:18.646445",
     "exception": false,
     "start_time": "2024-11-17T20:17:18.608726",
     "status": "completed"
    },
    "tags": []
   },
   "outputs": [],
   "source": [
    " data[\"Sizes\"] = data[\"Sizes\"].replace(\"Nan\",\"NA VALUED\")"
   ]
  },
  {
   "cell_type": "code",
   "execution_count": 37,
   "id": "56825da0",
   "metadata": {
    "execution": {
     "iopub.execute_input": "2024-11-17T20:17:18.691872Z",
     "iopub.status.busy": "2024-11-17T20:17:18.690857Z",
     "iopub.status.idle": "2024-11-17T20:17:18.707780Z",
     "shell.execute_reply": "2024-11-17T20:17:18.706592Z"
    },
    "papermill": {
     "duration": 0.041131,
     "end_time": "2024-11-17T20:17:18.710324",
     "exception": false,
     "start_time": "2024-11-17T20:17:18.669193",
     "status": "completed"
    },
    "tags": []
   },
   "outputs": [
    {
     "data": {
      "text/html": [
       "<div>\n",
       "<style scoped>\n",
       "    .dataframe tbody tr th:only-of-type {\n",
       "        vertical-align: middle;\n",
       "    }\n",
       "\n",
       "    .dataframe tbody tr th {\n",
       "        vertical-align: top;\n",
       "    }\n",
       "\n",
       "    .dataframe thead th {\n",
       "        text-align: right;\n",
       "    }\n",
       "</style>\n",
       "<table border=\"1\" class=\"dataframe\">\n",
       "  <thead>\n",
       "    <tr style=\"text-align: right;\">\n",
       "      <th></th>\n",
       "      <th>BrandName</th>\n",
       "      <th>Details</th>\n",
       "      <th>Sizes</th>\n",
       "      <th>MRP</th>\n",
       "      <th>SellPrice</th>\n",
       "      <th>Discount</th>\n",
       "      <th>Category</th>\n",
       "    </tr>\n",
       "  </thead>\n",
       "  <tbody>\n",
       "    <tr>\n",
       "      <th>0</th>\n",
       "      <td>Life</td>\n",
       "      <td>Solid cotton blend collar neck womens a-line d...</td>\n",
       "      <td>Size:Large,Medium,Small,X-Large,X-Small</td>\n",
       "      <td>Rs\\n1699</td>\n",
       "      <td>849</td>\n",
       "      <td>50% off</td>\n",
       "      <td>Westernwear-Women</td>\n",
       "    </tr>\n",
       "    <tr>\n",
       "      <th>1</th>\n",
       "      <td>Only</td>\n",
       "      <td>Polyester peter pan collar womens blouson dres...</td>\n",
       "      <td>Size:34,36,38,40</td>\n",
       "      <td>Rs\\n3499</td>\n",
       "      <td>2449</td>\n",
       "      <td>30% off</td>\n",
       "      <td>Westernwear-Women</td>\n",
       "    </tr>\n",
       "    <tr>\n",
       "      <th>2</th>\n",
       "      <td>Fratini</td>\n",
       "      <td>Solid polyester blend wide neck womens regular...</td>\n",
       "      <td>Size:Large,X-Large,XX-Large</td>\n",
       "      <td>Rs\\n1199</td>\n",
       "      <td>599</td>\n",
       "      <td>50% off</td>\n",
       "      <td>Westernwear-Women</td>\n",
       "    </tr>\n",
       "    <tr>\n",
       "      <th>3</th>\n",
       "      <td>Zink london</td>\n",
       "      <td>Stripes polyester sweetheart neck womens dress...</td>\n",
       "      <td>Size:Large,Medium,Small,X-Large</td>\n",
       "      <td>Rs\\n2299</td>\n",
       "      <td>1379</td>\n",
       "      <td>40% off</td>\n",
       "      <td>Westernwear-Women</td>\n",
       "    </tr>\n",
       "    <tr>\n",
       "      <th>4</th>\n",
       "      <td>Life</td>\n",
       "      <td>Regular fit regular length denim womens jeans ...</td>\n",
       "      <td>Size:26,28,30,32,34,36</td>\n",
       "      <td>Rs\\n1699</td>\n",
       "      <td>849</td>\n",
       "      <td>50% off</td>\n",
       "      <td>Westernwear-Women</td>\n",
       "    </tr>\n",
       "    <tr>\n",
       "      <th>...</th>\n",
       "      <td>...</td>\n",
       "      <td>...</td>\n",
       "      <td>...</td>\n",
       "      <td>...</td>\n",
       "      <td>...</td>\n",
       "      <td>...</td>\n",
       "      <td>...</td>\n",
       "    </tr>\n",
       "    <tr>\n",
       "      <th>27926</th>\n",
       "      <td>Shaya by caratlane</td>\n",
       "      <td>The wing woman clover charm necklace</td>\n",
       "      <td>NA VALUED</td>\n",
       "      <td>Nan</td>\n",
       "      <td>1250</td>\n",
       "      <td>Nan</td>\n",
       "      <td>Jewellery-Women</td>\n",
       "    </tr>\n",
       "    <tr>\n",
       "      <th>27927</th>\n",
       "      <td>Swarovski</td>\n",
       "      <td>Crystal stylish womens rodhium earrings</td>\n",
       "      <td>NA VALUED</td>\n",
       "      <td>Nan</td>\n",
       "      <td>8950</td>\n",
       "      <td>Nan</td>\n",
       "      <td>Jewellery-Women</td>\n",
       "    </tr>\n",
       "    <tr>\n",
       "      <th>27928</th>\n",
       "      <td>Jewelz</td>\n",
       "      <td>Ethnic gold plated jhumki earrings</td>\n",
       "      <td>NA VALUED</td>\n",
       "      <td>Rs\\n1839</td>\n",
       "      <td>643</td>\n",
       "      <td>65% off</td>\n",
       "      <td>Jewellery-Women</td>\n",
       "    </tr>\n",
       "    <tr>\n",
       "      <th>27929</th>\n",
       "      <td>Estelle</td>\n",
       "      <td>Womens gold plated double line fancy white and...</td>\n",
       "      <td>NA VALUED</td>\n",
       "      <td>Nan</td>\n",
       "      <td>2799</td>\n",
       "      <td>Nan</td>\n",
       "      <td>Jewellery-Women</td>\n",
       "    </tr>\n",
       "    <tr>\n",
       "      <th>27930</th>\n",
       "      <td>Estelle</td>\n",
       "      <td>Womens gold plated bridge designer mangalsutra...</td>\n",
       "      <td>NA VALUED</td>\n",
       "      <td>Nan</td>\n",
       "      <td>1899</td>\n",
       "      <td>Nan</td>\n",
       "      <td>Jewellery-Women</td>\n",
       "    </tr>\n",
       "  </tbody>\n",
       "</table>\n",
       "<p>27931 rows × 7 columns</p>\n",
       "</div>"
      ],
      "text/plain": [
       "                BrandName                                            Details  \\\n",
       "0                    Life  Solid cotton blend collar neck womens a-line d...   \n",
       "1                    Only  Polyester peter pan collar womens blouson dres...   \n",
       "2                 Fratini  Solid polyester blend wide neck womens regular...   \n",
       "3             Zink london  Stripes polyester sweetheart neck womens dress...   \n",
       "4                    Life  Regular fit regular length denim womens jeans ...   \n",
       "...                   ...                                                ...   \n",
       "27926  Shaya by caratlane               The wing woman clover charm necklace   \n",
       "27927           Swarovski            Crystal stylish womens rodhium earrings   \n",
       "27928              Jewelz                 Ethnic gold plated jhumki earrings   \n",
       "27929             Estelle  Womens gold plated double line fancy white and...   \n",
       "27930             Estelle  Womens gold plated bridge designer mangalsutra...   \n",
       "\n",
       "                                         Sizes       MRP SellPrice Discount  \\\n",
       "0      Size:Large,Medium,Small,X-Large,X-Small  Rs\\n1699       849  50% off   \n",
       "1                             Size:34,36,38,40  Rs\\n3499      2449  30% off   \n",
       "2                  Size:Large,X-Large,XX-Large  Rs\\n1199       599  50% off   \n",
       "3              Size:Large,Medium,Small,X-Large  Rs\\n2299      1379  40% off   \n",
       "4                       Size:26,28,30,32,34,36  Rs\\n1699       849  50% off   \n",
       "...                                        ...       ...       ...      ...   \n",
       "27926                                NA VALUED       Nan      1250      Nan   \n",
       "27927                                NA VALUED       Nan      8950      Nan   \n",
       "27928                                NA VALUED  Rs\\n1839       643  65% off   \n",
       "27929                                NA VALUED       Nan      2799      Nan   \n",
       "27930                                NA VALUED       Nan      1899      Nan   \n",
       "\n",
       "                Category  \n",
       "0      Westernwear-Women  \n",
       "1      Westernwear-Women  \n",
       "2      Westernwear-Women  \n",
       "3      Westernwear-Women  \n",
       "4      Westernwear-Women  \n",
       "...                  ...  \n",
       "27926    Jewellery-Women  \n",
       "27927    Jewellery-Women  \n",
       "27928    Jewellery-Women  \n",
       "27929    Jewellery-Women  \n",
       "27930    Jewellery-Women  \n",
       "\n",
       "[27931 rows x 7 columns]"
      ]
     },
     "execution_count": 37,
     "metadata": {},
     "output_type": "execute_result"
    }
   ],
   "source": [
    "data"
   ]
  },
  {
   "cell_type": "code",
   "execution_count": 38,
   "id": "e5907826",
   "metadata": {
    "execution": {
     "iopub.execute_input": "2024-11-17T20:17:18.754721Z",
     "iopub.status.busy": "2024-11-17T20:17:18.754254Z",
     "iopub.status.idle": "2024-11-17T20:17:18.769475Z",
     "shell.execute_reply": "2024-11-17T20:17:18.768294Z"
    },
    "papermill": {
     "duration": 0.040704,
     "end_time": "2024-11-17T20:17:18.772332",
     "exception": false,
     "start_time": "2024-11-17T20:17:18.731628",
     "status": "completed"
    },
    "tags": []
   },
   "outputs": [],
   "source": [
    "data = data[data[\"Sizes\"] != \"NA VALUED\"]"
   ]
  },
  {
   "cell_type": "code",
   "execution_count": 39,
   "id": "5d30015c",
   "metadata": {
    "execution": {
     "iopub.execute_input": "2024-11-17T20:17:18.815569Z",
     "iopub.status.busy": "2024-11-17T20:17:18.815134Z",
     "iopub.status.idle": "2024-11-17T20:17:18.826824Z",
     "shell.execute_reply": "2024-11-17T20:17:18.825706Z"
    },
    "papermill": {
     "duration": 0.037318,
     "end_time": "2024-11-17T20:17:18.829965",
     "exception": false,
     "start_time": "2024-11-17T20:17:18.792647",
     "status": "completed"
    },
    "tags": []
   },
   "outputs": [
    {
     "name": "stderr",
     "output_type": "stream",
     "text": [
      "/tmp/ipykernel_17/1613172525.py:1: SettingWithCopyWarning: \n",
      "A value is trying to be set on a copy of a slice from a DataFrame.\n",
      "Try using .loc[row_indexer,col_indexer] = value instead\n",
      "\n",
      "See the caveats in the documentation: https://pandas.pydata.org/pandas-docs/stable/user_guide/indexing.html#returning-a-view-versus-a-copy\n",
      "  data[\"Discount\"] = data[\"Discount\"].replace(\"Nan\",\"No Discount\")\n"
     ]
    }
   ],
   "source": [
    "data[\"Discount\"] = data[\"Discount\"].replace(\"Nan\",\"No Discount\")"
   ]
  },
  {
   "cell_type": "code",
   "execution_count": 40,
   "id": "b8ce68ad",
   "metadata": {
    "execution": {
     "iopub.execute_input": "2024-11-17T20:17:18.874007Z",
     "iopub.status.busy": "2024-11-17T20:17:18.873554Z",
     "iopub.status.idle": "2024-11-17T20:17:18.880462Z",
     "shell.execute_reply": "2024-11-17T20:17:18.879382Z"
    },
    "papermill": {
     "duration": 0.032328,
     "end_time": "2024-11-17T20:17:18.882758",
     "exception": false,
     "start_time": "2024-11-17T20:17:18.850430",
     "status": "completed"
    },
    "tags": []
   },
   "outputs": [
    {
     "data": {
      "text/plain": [
       "'\"Deleting redundant columns.\\nRenaming the columns.\\nDropping duplicates.\\nRemove the NaN values from the dataset\\nCheck for some more Transformations'"
      ]
     },
     "execution_count": 40,
     "metadata": {},
     "output_type": "execute_result"
    }
   ],
   "source": [
    "\"\"\"\"Deleting redundant columns.\n",
    "Renaming the columns.\n",
    "Dropping duplicates.\n",
    "Remove the NaN values from the dataset\n",
    "Check for some more Transformations\"\"\""
   ]
  },
  {
   "cell_type": "code",
   "execution_count": 41,
   "id": "738fc497",
   "metadata": {
    "execution": {
     "iopub.execute_input": "2024-11-17T20:17:18.926768Z",
     "iopub.status.busy": "2024-11-17T20:17:18.926311Z",
     "iopub.status.idle": "2024-11-17T20:17:18.944900Z",
     "shell.execute_reply": "2024-11-17T20:17:18.943761Z"
    },
    "papermill": {
     "duration": 0.043588,
     "end_time": "2024-11-17T20:17:18.947818",
     "exception": false,
     "start_time": "2024-11-17T20:17:18.904230",
     "status": "completed"
    },
    "tags": []
   },
   "outputs": [],
   "source": [
    "data = data.reset_index().drop(columns=\"index\")"
   ]
  },
  {
   "cell_type": "code",
   "execution_count": 42,
   "id": "da2e2f09",
   "metadata": {
    "execution": {
     "iopub.execute_input": "2024-11-17T20:17:18.992439Z",
     "iopub.status.busy": "2024-11-17T20:17:18.991962Z",
     "iopub.status.idle": "2024-11-17T20:17:27.698986Z",
     "shell.execute_reply": "2024-11-17T20:17:27.697800Z"
    },
    "papermill": {
     "duration": 8.732652,
     "end_time": "2024-11-17T20:17:27.701834",
     "exception": false,
     "start_time": "2024-11-17T20:17:18.969182",
     "status": "completed"
    },
    "tags": []
   },
   "outputs": [],
   "source": [
    "data.to_excel(\"Cleaned_data.xlsx\")"
   ]
  },
  {
   "cell_type": "code",
   "execution_count": 43,
   "id": "b11289c5",
   "metadata": {
    "execution": {
     "iopub.execute_input": "2024-11-17T20:17:27.746016Z",
     "iopub.status.busy": "2024-11-17T20:17:27.745084Z",
     "iopub.status.idle": "2024-11-17T20:17:27.938634Z",
     "shell.execute_reply": "2024-11-17T20:17:27.937560Z"
    },
    "papermill": {
     "duration": 0.218959,
     "end_time": "2024-11-17T20:17:27.941516",
     "exception": false,
     "start_time": "2024-11-17T20:17:27.722557",
     "status": "completed"
    },
    "tags": []
   },
   "outputs": [],
   "source": [
    "data.to_csv(\"Cleaned_CSV.csv\",index=False)"
   ]
  },
  {
   "cell_type": "code",
   "execution_count": 44,
   "id": "1b788caa",
   "metadata": {
    "execution": {
     "iopub.execute_input": "2024-11-17T20:17:27.985544Z",
     "iopub.status.busy": "2024-11-17T20:17:27.985130Z",
     "iopub.status.idle": "2024-11-17T20:17:35.710088Z",
     "shell.execute_reply": "2024-11-17T20:17:35.708903Z"
    },
    "papermill": {
     "duration": 7.749866,
     "end_time": "2024-11-17T20:17:35.712684",
     "exception": false,
     "start_time": "2024-11-17T20:17:27.962818",
     "status": "completed"
    },
    "tags": []
   },
   "outputs": [
    {
     "data": {
      "text/html": [
       "<div>\n",
       "<style scoped>\n",
       "    .dataframe tbody tr th:only-of-type {\n",
       "        vertical-align: middle;\n",
       "    }\n",
       "\n",
       "    .dataframe tbody tr th {\n",
       "        vertical-align: top;\n",
       "    }\n",
       "\n",
       "    .dataframe thead th {\n",
       "        text-align: right;\n",
       "    }\n",
       "</style>\n",
       "<table border=\"1\" class=\"dataframe\">\n",
       "  <thead>\n",
       "    <tr style=\"text-align: right;\">\n",
       "      <th></th>\n",
       "      <th>Unnamed: 0</th>\n",
       "      <th>BrandName</th>\n",
       "      <th>Details</th>\n",
       "      <th>Sizes</th>\n",
       "      <th>MRP</th>\n",
       "      <th>SellPrice</th>\n",
       "      <th>Discount</th>\n",
       "      <th>Category</th>\n",
       "    </tr>\n",
       "  </thead>\n",
       "  <tbody>\n",
       "    <tr>\n",
       "      <th>0</th>\n",
       "      <td>0</td>\n",
       "      <td>Life</td>\n",
       "      <td>Solid cotton blend collar neck womens a-line d...</td>\n",
       "      <td>Size:Large,Medium,Small,X-Large,X-Small</td>\n",
       "      <td>Rs\\n1699</td>\n",
       "      <td>849</td>\n",
       "      <td>50% off</td>\n",
       "      <td>Westernwear-Women</td>\n",
       "    </tr>\n",
       "    <tr>\n",
       "      <th>1</th>\n",
       "      <td>1</td>\n",
       "      <td>Only</td>\n",
       "      <td>Polyester peter pan collar womens blouson dres...</td>\n",
       "      <td>Size:34,36,38,40</td>\n",
       "      <td>Rs\\n3499</td>\n",
       "      <td>2449</td>\n",
       "      <td>30% off</td>\n",
       "      <td>Westernwear-Women</td>\n",
       "    </tr>\n",
       "    <tr>\n",
       "      <th>2</th>\n",
       "      <td>2</td>\n",
       "      <td>Fratini</td>\n",
       "      <td>Solid polyester blend wide neck womens regular...</td>\n",
       "      <td>Size:Large,X-Large,XX-Large</td>\n",
       "      <td>Rs\\n1199</td>\n",
       "      <td>599</td>\n",
       "      <td>50% off</td>\n",
       "      <td>Westernwear-Women</td>\n",
       "    </tr>\n",
       "    <tr>\n",
       "      <th>3</th>\n",
       "      <td>3</td>\n",
       "      <td>Zink london</td>\n",
       "      <td>Stripes polyester sweetheart neck womens dress...</td>\n",
       "      <td>Size:Large,Medium,Small,X-Large</td>\n",
       "      <td>Rs\\n2299</td>\n",
       "      <td>1379</td>\n",
       "      <td>40% off</td>\n",
       "      <td>Westernwear-Women</td>\n",
       "    </tr>\n",
       "    <tr>\n",
       "      <th>4</th>\n",
       "      <td>4</td>\n",
       "      <td>Life</td>\n",
       "      <td>Regular fit regular length denim womens jeans ...</td>\n",
       "      <td>Size:26,28,30,32,34,36</td>\n",
       "      <td>Rs\\n1699</td>\n",
       "      <td>849</td>\n",
       "      <td>50% off</td>\n",
       "      <td>Westernwear-Women</td>\n",
       "    </tr>\n",
       "    <tr>\n",
       "      <th>...</th>\n",
       "      <td>...</td>\n",
       "      <td>...</td>\n",
       "      <td>...</td>\n",
       "      <td>...</td>\n",
       "      <td>...</td>\n",
       "      <td>...</td>\n",
       "      <td>...</td>\n",
       "      <td>...</td>\n",
       "    </tr>\n",
       "    <tr>\n",
       "      <th>22682</th>\n",
       "      <td>22682</td>\n",
       "      <td>Swiss eagle</td>\n",
       "      <td>Womens analogue metallic watch</td>\n",
       "      <td>Size:Error Size</td>\n",
       "      <td>Rs\\n13990</td>\n",
       "      <td>4197</td>\n",
       "      <td>70% off</td>\n",
       "      <td>Watches-Women</td>\n",
       "    </tr>\n",
       "    <tr>\n",
       "      <th>22683</th>\n",
       "      <td>22683</td>\n",
       "      <td>Lawman watches</td>\n",
       "      <td>Womens rose gold dial stainless steel analogue...</td>\n",
       "      <td>Size:Error Size</td>\n",
       "      <td>Rs\\n7499</td>\n",
       "      <td>4999</td>\n",
       "      <td>33% off</td>\n",
       "      <td>Watches-Women</td>\n",
       "    </tr>\n",
       "    <tr>\n",
       "      <th>22684</th>\n",
       "      <td>22684</td>\n",
       "      <td>Lawman watches</td>\n",
       "      <td>Womens silver dial stainless steel analogue wa...</td>\n",
       "      <td>Size:Error Size</td>\n",
       "      <td>Rs\\n5999</td>\n",
       "      <td>3999</td>\n",
       "      <td>33% off</td>\n",
       "      <td>Watches-Women</td>\n",
       "    </tr>\n",
       "    <tr>\n",
       "      <th>22685</th>\n",
       "      <td>22685</td>\n",
       "      <td>Miu miu</td>\n",
       "      <td>Eau de parfum - 50 ml</td>\n",
       "      <td>Size:Error Size</td>\n",
       "      <td>Nan</td>\n",
       "      <td>6100</td>\n",
       "      <td>No Discount</td>\n",
       "      <td>Fragrance-Women</td>\n",
       "    </tr>\n",
       "    <tr>\n",
       "      <th>22686</th>\n",
       "      <td>22686</td>\n",
       "      <td>Miu miu</td>\n",
       "      <td>Eau de parfum - 30 ml</td>\n",
       "      <td>Size:Error Size</td>\n",
       "      <td>Nan</td>\n",
       "      <td>4400</td>\n",
       "      <td>No Discount</td>\n",
       "      <td>Fragrance-Women</td>\n",
       "    </tr>\n",
       "  </tbody>\n",
       "</table>\n",
       "<p>22687 rows × 8 columns</p>\n",
       "</div>"
      ],
      "text/plain": [
       "       Unnamed: 0       BrandName  \\\n",
       "0               0            Life   \n",
       "1               1            Only   \n",
       "2               2         Fratini   \n",
       "3               3     Zink london   \n",
       "4               4            Life   \n",
       "...           ...             ...   \n",
       "22682       22682     Swiss eagle   \n",
       "22683       22683  Lawman watches   \n",
       "22684       22684  Lawman watches   \n",
       "22685       22685         Miu miu   \n",
       "22686       22686         Miu miu   \n",
       "\n",
       "                                                 Details  \\\n",
       "0      Solid cotton blend collar neck womens a-line d...   \n",
       "1      Polyester peter pan collar womens blouson dres...   \n",
       "2      Solid polyester blend wide neck womens regular...   \n",
       "3      Stripes polyester sweetheart neck womens dress...   \n",
       "4      Regular fit regular length denim womens jeans ...   \n",
       "...                                                  ...   \n",
       "22682                     Womens analogue metallic watch   \n",
       "22683  Womens rose gold dial stainless steel analogue...   \n",
       "22684  Womens silver dial stainless steel analogue wa...   \n",
       "22685                              Eau de parfum - 50 ml   \n",
       "22686                              Eau de parfum - 30 ml   \n",
       "\n",
       "                                         Sizes        MRP  SellPrice  \\\n",
       "0      Size:Large,Medium,Small,X-Large,X-Small   Rs\\n1699        849   \n",
       "1                             Size:34,36,38,40   Rs\\n3499       2449   \n",
       "2                  Size:Large,X-Large,XX-Large   Rs\\n1199        599   \n",
       "3              Size:Large,Medium,Small,X-Large   Rs\\n2299       1379   \n",
       "4                       Size:26,28,30,32,34,36   Rs\\n1699        849   \n",
       "...                                        ...        ...        ...   \n",
       "22682                          Size:Error Size  Rs\\n13990       4197   \n",
       "22683                          Size:Error Size   Rs\\n7499       4999   \n",
       "22684                          Size:Error Size   Rs\\n5999       3999   \n",
       "22685                          Size:Error Size        Nan       6100   \n",
       "22686                          Size:Error Size        Nan       4400   \n",
       "\n",
       "          Discount           Category  \n",
       "0          50% off  Westernwear-Women  \n",
       "1          30% off  Westernwear-Women  \n",
       "2          50% off  Westernwear-Women  \n",
       "3          40% off  Westernwear-Women  \n",
       "4          50% off  Westernwear-Women  \n",
       "...            ...                ...  \n",
       "22682      70% off      Watches-Women  \n",
       "22683      33% off      Watches-Women  \n",
       "22684      33% off      Watches-Women  \n",
       "22685  No Discount    Fragrance-Women  \n",
       "22686  No Discount    Fragrance-Women  \n",
       "\n",
       "[22687 rows x 8 columns]"
      ]
     },
     "execution_count": 44,
     "metadata": {},
     "output_type": "execute_result"
    }
   ],
   "source": [
    "pd.read_excel(\"Cleaned_data.xlsx\")"
   ]
  },
  {
   "cell_type": "code",
   "execution_count": 45,
   "id": "2b0ad86d",
   "metadata": {
    "execution": {
     "iopub.execute_input": "2024-11-17T20:17:35.758982Z",
     "iopub.status.busy": "2024-11-17T20:17:35.758504Z",
     "iopub.status.idle": "2024-11-17T20:17:35.844611Z",
     "shell.execute_reply": "2024-11-17T20:17:35.843404Z"
    },
    "papermill": {
     "duration": 0.112065,
     "end_time": "2024-11-17T20:17:35.847666",
     "exception": false,
     "start_time": "2024-11-17T20:17:35.735601",
     "status": "completed"
    },
    "tags": []
   },
   "outputs": [
    {
     "data": {
      "text/html": [
       "<div>\n",
       "<style scoped>\n",
       "    .dataframe tbody tr th:only-of-type {\n",
       "        vertical-align: middle;\n",
       "    }\n",
       "\n",
       "    .dataframe tbody tr th {\n",
       "        vertical-align: top;\n",
       "    }\n",
       "\n",
       "    .dataframe thead th {\n",
       "        text-align: right;\n",
       "    }\n",
       "</style>\n",
       "<table border=\"1\" class=\"dataframe\">\n",
       "  <thead>\n",
       "    <tr style=\"text-align: right;\">\n",
       "      <th></th>\n",
       "      <th>BrandName</th>\n",
       "      <th>Details</th>\n",
       "      <th>Sizes</th>\n",
       "      <th>MRP</th>\n",
       "      <th>SellPrice</th>\n",
       "      <th>Discount</th>\n",
       "      <th>Category</th>\n",
       "    </tr>\n",
       "  </thead>\n",
       "  <tbody>\n",
       "    <tr>\n",
       "      <th>0</th>\n",
       "      <td>Life</td>\n",
       "      <td>Solid cotton blend collar neck womens a-line d...</td>\n",
       "      <td>Size:Large,Medium,Small,X-Large,X-Small</td>\n",
       "      <td>Rs\\n1699</td>\n",
       "      <td>849</td>\n",
       "      <td>50% off</td>\n",
       "      <td>Westernwear-Women</td>\n",
       "    </tr>\n",
       "    <tr>\n",
       "      <th>1</th>\n",
       "      <td>Only</td>\n",
       "      <td>Polyester peter pan collar womens blouson dres...</td>\n",
       "      <td>Size:34,36,38,40</td>\n",
       "      <td>Rs\\n3499</td>\n",
       "      <td>2449</td>\n",
       "      <td>30% off</td>\n",
       "      <td>Westernwear-Women</td>\n",
       "    </tr>\n",
       "    <tr>\n",
       "      <th>2</th>\n",
       "      <td>Fratini</td>\n",
       "      <td>Solid polyester blend wide neck womens regular...</td>\n",
       "      <td>Size:Large,X-Large,XX-Large</td>\n",
       "      <td>Rs\\n1199</td>\n",
       "      <td>599</td>\n",
       "      <td>50% off</td>\n",
       "      <td>Westernwear-Women</td>\n",
       "    </tr>\n",
       "    <tr>\n",
       "      <th>3</th>\n",
       "      <td>Zink london</td>\n",
       "      <td>Stripes polyester sweetheart neck womens dress...</td>\n",
       "      <td>Size:Large,Medium,Small,X-Large</td>\n",
       "      <td>Rs\\n2299</td>\n",
       "      <td>1379</td>\n",
       "      <td>40% off</td>\n",
       "      <td>Westernwear-Women</td>\n",
       "    </tr>\n",
       "    <tr>\n",
       "      <th>4</th>\n",
       "      <td>Life</td>\n",
       "      <td>Regular fit regular length denim womens jeans ...</td>\n",
       "      <td>Size:26,28,30,32,34,36</td>\n",
       "      <td>Rs\\n1699</td>\n",
       "      <td>849</td>\n",
       "      <td>50% off</td>\n",
       "      <td>Westernwear-Women</td>\n",
       "    </tr>\n",
       "    <tr>\n",
       "      <th>...</th>\n",
       "      <td>...</td>\n",
       "      <td>...</td>\n",
       "      <td>...</td>\n",
       "      <td>...</td>\n",
       "      <td>...</td>\n",
       "      <td>...</td>\n",
       "      <td>...</td>\n",
       "    </tr>\n",
       "    <tr>\n",
       "      <th>22682</th>\n",
       "      <td>Swiss eagle</td>\n",
       "      <td>Womens analogue metallic watch</td>\n",
       "      <td>Size:Error Size</td>\n",
       "      <td>Rs\\n13990</td>\n",
       "      <td>4197</td>\n",
       "      <td>70% off</td>\n",
       "      <td>Watches-Women</td>\n",
       "    </tr>\n",
       "    <tr>\n",
       "      <th>22683</th>\n",
       "      <td>Lawman watches</td>\n",
       "      <td>Womens rose gold dial stainless steel analogue...</td>\n",
       "      <td>Size:Error Size</td>\n",
       "      <td>Rs\\n7499</td>\n",
       "      <td>4999</td>\n",
       "      <td>33% off</td>\n",
       "      <td>Watches-Women</td>\n",
       "    </tr>\n",
       "    <tr>\n",
       "      <th>22684</th>\n",
       "      <td>Lawman watches</td>\n",
       "      <td>Womens silver dial stainless steel analogue wa...</td>\n",
       "      <td>Size:Error Size</td>\n",
       "      <td>Rs\\n5999</td>\n",
       "      <td>3999</td>\n",
       "      <td>33% off</td>\n",
       "      <td>Watches-Women</td>\n",
       "    </tr>\n",
       "    <tr>\n",
       "      <th>22685</th>\n",
       "      <td>Miu miu</td>\n",
       "      <td>Eau de parfum - 50 ml</td>\n",
       "      <td>Size:Error Size</td>\n",
       "      <td>Nan</td>\n",
       "      <td>6100</td>\n",
       "      <td>No Discount</td>\n",
       "      <td>Fragrance-Women</td>\n",
       "    </tr>\n",
       "    <tr>\n",
       "      <th>22686</th>\n",
       "      <td>Miu miu</td>\n",
       "      <td>Eau de parfum - 30 ml</td>\n",
       "      <td>Size:Error Size</td>\n",
       "      <td>Nan</td>\n",
       "      <td>4400</td>\n",
       "      <td>No Discount</td>\n",
       "      <td>Fragrance-Women</td>\n",
       "    </tr>\n",
       "  </tbody>\n",
       "</table>\n",
       "<p>22687 rows × 7 columns</p>\n",
       "</div>"
      ],
      "text/plain": [
       "            BrandName                                            Details  \\\n",
       "0                Life  Solid cotton blend collar neck womens a-line d...   \n",
       "1                Only  Polyester peter pan collar womens blouson dres...   \n",
       "2             Fratini  Solid polyester blend wide neck womens regular...   \n",
       "3         Zink london  Stripes polyester sweetheart neck womens dress...   \n",
       "4                Life  Regular fit regular length denim womens jeans ...   \n",
       "...               ...                                                ...   \n",
       "22682     Swiss eagle                     Womens analogue metallic watch   \n",
       "22683  Lawman watches  Womens rose gold dial stainless steel analogue...   \n",
       "22684  Lawman watches  Womens silver dial stainless steel analogue wa...   \n",
       "22685         Miu miu                              Eau de parfum - 50 ml   \n",
       "22686         Miu miu                              Eau de parfum - 30 ml   \n",
       "\n",
       "                                         Sizes        MRP  SellPrice  \\\n",
       "0      Size:Large,Medium,Small,X-Large,X-Small   Rs\\n1699        849   \n",
       "1                             Size:34,36,38,40   Rs\\n3499       2449   \n",
       "2                  Size:Large,X-Large,XX-Large   Rs\\n1199        599   \n",
       "3              Size:Large,Medium,Small,X-Large   Rs\\n2299       1379   \n",
       "4                       Size:26,28,30,32,34,36   Rs\\n1699        849   \n",
       "...                                        ...        ...        ...   \n",
       "22682                          Size:Error Size  Rs\\n13990       4197   \n",
       "22683                          Size:Error Size   Rs\\n7499       4999   \n",
       "22684                          Size:Error Size   Rs\\n5999       3999   \n",
       "22685                          Size:Error Size        Nan       6100   \n",
       "22686                          Size:Error Size        Nan       4400   \n",
       "\n",
       "          Discount           Category  \n",
       "0          50% off  Westernwear-Women  \n",
       "1          30% off  Westernwear-Women  \n",
       "2          50% off  Westernwear-Women  \n",
       "3          40% off  Westernwear-Women  \n",
       "4          50% off  Westernwear-Women  \n",
       "...            ...                ...  \n",
       "22682      70% off      Watches-Women  \n",
       "22683      33% off      Watches-Women  \n",
       "22684      33% off      Watches-Women  \n",
       "22685  No Discount    Fragrance-Women  \n",
       "22686  No Discount    Fragrance-Women  \n",
       "\n",
       "[22687 rows x 7 columns]"
      ]
     },
     "execution_count": 45,
     "metadata": {},
     "output_type": "execute_result"
    }
   ],
   "source": [
    "pd.read_csv(\"Cleaned_CSV.csv\")"
   ]
  },
  {
   "cell_type": "code",
   "execution_count": null,
   "id": "51bcc5df",
   "metadata": {
    "papermill": {
     "duration": 0.021083,
     "end_time": "2024-11-17T20:17:35.890571",
     "exception": false,
     "start_time": "2024-11-17T20:17:35.869488",
     "status": "completed"
    },
    "tags": []
   },
   "outputs": [],
   "source": []
  }
 ],
 "metadata": {
  "kaggle": {
   "accelerator": "none",
   "dataSources": [
    {
     "datasetId": 2327126,
     "sourceId": 3918640,
     "sourceType": "datasetVersion"
    }
   ],
   "dockerImageVersionId": 30786,
   "isGpuEnabled": false,
   "isInternetEnabled": true,
   "language": "python",
   "sourceType": "notebook"
  },
  "kernelspec": {
   "display_name": "Python 3",
   "language": "python",
   "name": "python3"
  },
  "language_info": {
   "codemirror_mode": {
    "name": "ipython",
    "version": 3
   },
   "file_extension": ".py",
   "mimetype": "text/x-python",
   "name": "python",
   "nbconvert_exporter": "python",
   "pygments_lexer": "ipython3",
   "version": "3.10.14"
  },
  "papermill": {
   "default_parameters": {},
   "duration": 24.355422,
   "end_time": "2024-11-17T20:17:36.534180",
   "environment_variables": {},
   "exception": null,
   "input_path": "__notebook__.ipynb",
   "output_path": "__notebook__.ipynb",
   "parameters": {},
   "start_time": "2024-11-17T20:17:12.178758",
   "version": "2.6.0"
  }
 },
 "nbformat": 4,
 "nbformat_minor": 5
}
